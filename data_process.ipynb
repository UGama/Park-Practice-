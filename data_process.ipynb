{
 "cells": [
  {
   "cell_type": "code",
   "execution_count": 3,
   "id": "96c9012e-a3c6-4a16-af7d-d076ea55751c",
   "metadata": {},
   "outputs": [
    {
     "name": "stdout",
     "output_type": "stream",
     "text": [
      "/opt/homebrew/Cellar/jupyterlab/4.3.4_1/libexec/bin/python\n"
     ]
    }
   ],
   "source": [
    "import sys\n",
    "print(sys.executable)"
   ]
  },
  {
   "cell_type": "code",
   "execution_count": 4,
   "id": "ecffbb12-f473-4ae8-90f7-64f043a4782a",
   "metadata": {},
   "outputs": [
    {
     "name": "stdout",
     "output_type": "stream",
     "text": [
      "Requirement already satisfied: kagglehub in /opt/homebrew/Cellar/jupyterlab/4.3.4_1/libexec/lib/python3.13/site-packages (0.3.11)\n",
      "Requirement already satisfied: packaging in /opt/homebrew/Cellar/jupyterlab/4.3.4_1/libexec/lib/python3.13/site-packages (from kagglehub) (24.2)\n",
      "Requirement already satisfied: pyyaml in /opt/homebrew/Cellar/jupyterlab/4.3.4_1/libexec/lib/python3.13/site-packages (from kagglehub) (6.0.2)\n",
      "Requirement already satisfied: requests in /opt/homebrew/Cellar/jupyterlab/4.3.4_1/libexec/lib/python3.13/site-packages (from kagglehub) (2.32.3)\n",
      "Requirement already satisfied: tqdm in /opt/homebrew/Cellar/jupyterlab/4.3.4_1/libexec/lib/python3.13/site-packages (from kagglehub) (4.67.1)\n",
      "Requirement already satisfied: charset_normalizer<4,>=2 in /opt/homebrew/Cellar/jupyterlab/4.3.4_1/libexec/lib/python3.13/site-packages (from requests->kagglehub) (3.4.0)\n",
      "Requirement already satisfied: idna<4,>=2.5 in /opt/homebrew/Cellar/jupyterlab/4.3.4_1/libexec/lib/python3.13/site-packages (from requests->kagglehub) (3.10)\n",
      "Requirement already satisfied: urllib3<3,>=1.21.1 in /opt/homebrew/Cellar/jupyterlab/4.3.4_1/libexec/lib/python3.13/site-packages (from requests->kagglehub) (2.3.0)\n",
      "Requirement already satisfied: certifi>=2017.4.17 in /opt/homebrew/opt/certifi/lib/python3.13/site-packages (from requests->kagglehub) (2024.12.14)\n"
     ]
    }
   ],
   "source": [
    "!{sys.executable} -m pip install kagglehub"
   ]
  },
  {
   "cell_type": "code",
   "execution_count": 5,
   "id": "7f06f04d-842b-4a3f-90f2-d4b2a4e8d103",
   "metadata": {},
   "outputs": [
    {
     "name": "stdout",
     "output_type": "stream",
     "text": [
      "Requirement already satisfied: pip in /opt/homebrew/Cellar/jupyterlab/4.3.4_1/libexec/lib/python3.13/site-packages (25.0.1)\n"
     ]
    }
   ],
   "source": [
    "!/opt/homebrew/Cellar/jupyterlab/4.3.4_1/libexec/bin/python -m pip install --upgrade pip"
   ]
  },
  {
   "cell_type": "code",
   "execution_count": 6,
   "id": "3e387403-64d4-423a-8c27-766d2ab495ce",
   "metadata": {},
   "outputs": [
    {
     "name": "stderr",
     "output_type": "stream",
     "text": [
      "/opt/homebrew/Cellar/jupyterlab/4.3.4_1/libexec/lib/python3.13/site-packages/tqdm/auto.py:21: TqdmWarning: IProgress not found. Please update jupyter and ipywidgets. See https://ipywidgets.readthedocs.io/en/stable/user_install.html\n",
      "  from .autonotebook import tqdm as notebook_tqdm\n"
     ]
    },
    {
     "name": "stdout",
     "output_type": "stream",
     "text": [
      "Path to dataset files: /Users/gama/.cache/kagglehub/datasets/ayushtankha/hackathon/versions/1\n"
     ]
    }
   ],
   "source": [
    "import kagglehub\n",
    "\n",
    "path = kagglehub.dataset_download(\"ayushtankha/hackathon\")\n",
    "\n",
    "print(\"Path to dataset files:\", path)"
   ]
  },
  {
   "cell_type": "code",
   "execution_count": 7,
   "id": "52b40e23-b8f2-4197-9a0e-57857b894166",
   "metadata": {},
   "outputs": [
    {
     "name": "stdout",
     "output_type": "stream",
     "text": [
      "Files in dataset: ['weather_data.csv', 'waiting_times.csv', 'parade_night_show.xlsx', 'glossary.xlsx', 'entity_schedule.csv', 'link_attraction_park.csv', 'attendance.csv']\n"
     ]
    }
   ],
   "source": [
    "import os\n",
    "\n",
    "files = os.listdir(path)\n",
    "print(\"Files in dataset:\", files)"
   ]
  },
  {
   "cell_type": "code",
   "execution_count": 8,
   "id": "da737889-0dbf-412d-833e-30f70fb95a8c",
   "metadata": {},
   "outputs": [
    {
     "name": "stdout",
     "output_type": "stream",
     "text": [
      "Requirement already satisfied: pandas in /opt/homebrew/Cellar/jupyterlab/4.3.4_1/libexec/lib/python3.13/site-packages (2.2.3)\n",
      "Requirement already satisfied: numpy>=1.26.0 in /opt/homebrew/Cellar/jupyterlab/4.3.4_1/libexec/lib/python3.13/site-packages (from pandas) (2.2.4)\n",
      "Requirement already satisfied: python-dateutil>=2.8.2 in /opt/homebrew/Cellar/jupyterlab/4.3.4_1/libexec/lib/python3.13/site-packages (from pandas) (2.9.0.post0)\n",
      "Requirement already satisfied: pytz>=2020.1 in /opt/homebrew/Cellar/jupyterlab/4.3.4_1/libexec/lib/python3.13/site-packages (from pandas) (2025.2)\n",
      "Requirement already satisfied: tzdata>=2022.7 in /opt/homebrew/Cellar/jupyterlab/4.3.4_1/libexec/lib/python3.13/site-packages (from pandas) (2025.2)\n",
      "Requirement already satisfied: six>=1.5 in /opt/homebrew/Cellar/jupyterlab/4.3.4_1/libexec/lib/python3.13/site-packages (from python-dateutil>=2.8.2->pandas) (1.17.0)\n",
      "Requirement already satisfied: openpyxl in /opt/homebrew/Cellar/jupyterlab/4.3.4_1/libexec/lib/python3.13/site-packages (3.1.5)\n",
      "Requirement already satisfied: et-xmlfile in /opt/homebrew/Cellar/jupyterlab/4.3.4_1/libexec/lib/python3.13/site-packages (from openpyxl) (2.0.0)\n"
     ]
    }
   ],
   "source": [
    "!{sys.executable} -m pip install pandas\n",
    "!{sys.executable} -m pip install openpyxl"
   ]
  },
  {
   "cell_type": "code",
   "execution_count": 9,
   "id": "fef09383-143f-47a9-83d5-512b391a2f1d",
   "metadata": {},
   "outputs": [
    {
     "name": "stdout",
     "output_type": "stream",
     "text": [
      "          dt                         dt_iso  timezone        city_name  \\\n",
      "0  915148800  1999-01-01 00:00:00 +0000 UTC      3600  Custom location   \n",
      "1  915152400  1999-01-01 01:00:00 +0000 UTC      3600  Custom location   \n",
      "2  915156000  1999-01-01 02:00:00 +0000 UTC      3600  Custom location   \n",
      "3  915159600  1999-01-01 03:00:00 +0000 UTC      3600  Custom location   \n",
      "4  915163200  1999-01-01 04:00:00 +0000 UTC      3600  Custom location   \n",
      "5  915166800  1999-01-01 05:00:00 +0000 UTC      3600  Custom location   \n",
      "6  915170400  1999-01-01 06:00:00 +0000 UTC      3600  Custom location   \n",
      "7  915174000  1999-01-01 07:00:00 +0000 UTC      3600  Custom location   \n",
      "8  915177600  1999-01-01 08:00:00 +0000 UTC      3600  Custom location   \n",
      "9  915181200  1999-01-01 09:00:00 +0000 UTC      3600  Custom location   \n",
      "\n",
      "         lat       lon  temp  visibility  dew_point  feels_like  ...  \\\n",
      "0  48.873492  2.295104  8.33         NaN       3.39        5.28  ...   \n",
      "1  48.873492  2.295104  8.08         NaN       3.54        5.18  ...   \n",
      "2  48.873492  2.295104  8.08         NaN       4.11        5.38  ...   \n",
      "3  48.873492  2.295104  7.31         NaN       3.73        4.42  ...   \n",
      "4  48.873492  2.295104  6.91         NaN       3.53        4.00  ...   \n",
      "5  48.873492  2.295104  5.45         NaN       2.46        2.35  ...   \n",
      "6  48.873492  2.295104  5.63         NaN       3.14        2.57  ...   \n",
      "7  48.873492  2.295104  5.64         NaN       3.32        2.38  ...   \n",
      "8  48.873492  2.295104  5.99         NaN       3.83        2.69  ...   \n",
      "9  48.873492  2.295104  6.72         NaN       4.21        3.42  ...   \n",
      "\n",
      "   wind_gust  rain_1h  rain_3h  snow_1h  snow_3h  clouds_all  weather_id  \\\n",
      "0        NaN      NaN      NaN      NaN      NaN           8         800   \n",
      "1        NaN      NaN      NaN      NaN      NaN           6         800   \n",
      "2        NaN      NaN      NaN      NaN      NaN          14         801   \n",
      "3        NaN      NaN      NaN      NaN      NaN          39         802   \n",
      "4        NaN      NaN      NaN      NaN      NaN          52         803   \n",
      "5        NaN      NaN      NaN      NaN      NaN          52         803   \n",
      "6        NaN      NaN      NaN      NaN      NaN          57         803   \n",
      "7        NaN      NaN      NaN      NaN      NaN          65         803   \n",
      "8        NaN      NaN      NaN      NaN      NaN          61         803   \n",
      "9        NaN      NaN      NaN      NaN      NaN          83         803   \n",
      "\n",
      "   weather_main  weather_description  weather_icon  \n",
      "0         Clear         sky is clear           01n  \n",
      "1         Clear         sky is clear           01n  \n",
      "2        Clouds           few clouds           02n  \n",
      "3        Clouds     scattered clouds           03n  \n",
      "4        Clouds        broken clouds           04n  \n",
      "5        Clouds        broken clouds           04n  \n",
      "6        Clouds        broken clouds           04n  \n",
      "7        Clouds        broken clouds           04n  \n",
      "8        Clouds        broken clouds           04d  \n",
      "9        Clouds        broken clouds           04d  \n",
      "\n",
      "[10 rows x 28 columns]\n"
     ]
    },
    {
     "data": {
      "text/plain": [
       "(207264, 28)"
      ]
     },
     "execution_count": 9,
     "metadata": {},
     "output_type": "execute_result"
    }
   ],
   "source": [
    "# ['weather_data.csv', 'waiting_times.csv', 'parade_night_show.xlsx', 'glossary.xlsx', 'entity_schedule.csv', 'link_attraction_park.csv', 'attendance.csv']\n",
    "import pandas as pd\n",
    "\n",
    "df_weather = pd.read_csv(os.path.join(path, \"weather_data.csv\"))\n",
    "print(df_weather.head(10))\n",
    "df_weather.shape"
   ]
  },
  {
   "cell_type": "code",
   "execution_count": 10,
   "id": "8c617997-9c6c-4284-9734-a62a4b3291ed",
   "metadata": {},
   "outputs": [
    {
     "name": "stdout",
     "output_type": "stream",
     "text": [
      "207264 207264 2 1\n"
     ]
    }
   ],
   "source": [
    "print(df_weather['dt'].nunique(),df_weather['dt_iso'].nunique(),df_weather['timezone'].nunique(),df_weather['city_name'].nunique())"
   ]
  },
  {
   "cell_type": "code",
   "execution_count": 11,
   "id": "b8bdeeb6-0254-4807-836e-cfac5c71a3bf",
   "metadata": {},
   "outputs": [
    {
     "data": {
      "text/plain": [
       "timezone\n",
       "7200    121871\n",
       "3600     85393\n",
       "Name: count, dtype: int64"
      ]
     },
     "execution_count": 11,
     "metadata": {},
     "output_type": "execute_result"
    }
   ],
   "source": [
    "df_weather['timezone'].value_counts()"
   ]
  },
  {
   "cell_type": "code",
   "execution_count": 12,
   "id": "ed234db0-969a-48f1-829a-22be4eecc750",
   "metadata": {},
   "outputs": [
    {
     "name": "stdout",
     "output_type": "stream",
     "text": [
      "1 1 4333 0\n"
     ]
    }
   ],
   "source": [
    "print(df_weather['lat'].nunique(),df_weather['lon'].nunique(),df_weather['temp'].nunique(),df_weather['visibility'].nunique())"
   ]
  },
  {
   "cell_type": "code",
   "execution_count": 13,
   "id": "1536f4c9-f217-4cce-9ae9-294a2a63120c",
   "metadata": {},
   "outputs": [
    {
     "name": "stdout",
     "output_type": "stream",
     "text": [
      "3414 4939 75 469\n"
     ]
    }
   ],
   "source": [
    "print(df_weather['dew_point'].nunique(),df_weather['feels_like'].nunique(),df_weather['wind_gust'].nunique(),df_weather['rain_1h'].nunique())"
   ]
  },
  {
   "cell_type": "code",
   "execution_count": 14,
   "id": "407aaf9b-3b6d-4519-9e05-32f71b6012b8",
   "metadata": {},
   "outputs": [
    {
     "name": "stdout",
     "output_type": "stream",
     "text": [
      "469 8 165 0\n"
     ]
    }
   ],
   "source": [
    "print(df_weather['rain_1h'].nunique(),df_weather['rain_3h'].nunique(),df_weather['snow_1h'].nunique(),df_weather['snow_3h'].nunique())"
   ]
  },
  {
   "cell_type": "code",
   "execution_count": 15,
   "id": "473f4854-53fc-47e4-91bc-8490ea531712",
   "metadata": {},
   "outputs": [
    {
     "name": "stdout",
     "output_type": "stream",
     "text": [
      "101 10 4 10\n"
     ]
    }
   ],
   "source": [
    "print(df_weather['clouds_all'].nunique(),df_weather['weather_id'].nunique(),df_weather['weather_main'].nunique(),df_weather['weather_description'].nunique())"
   ]
  },
  {
   "cell_type": "code",
   "execution_count": 33,
   "id": "8a6a046a-264d-4aec-98ea-7ec61c33590d",
   "metadata": {},
   "outputs": [
    {
     "name": "stdout",
     "output_type": "stream",
     "text": [
      "0 0 95 1220\n"
     ]
    }
   ],
   "source": [
    "print(df_weather['sea_level'].nunique(),df_weather['grnd_level'].nunique(),df_weather['humidity'].nunique(),df_weather['wind_speed'].nunique())"
   ]
  },
  {
   "cell_type": "code",
   "execution_count": 34,
   "id": "576340c5-15a2-4839-bebc-7f57fb238848",
   "metadata": {},
   "outputs": [
    {
     "name": "stdout",
     "output_type": "stream",
     "text": [
      "361\n"
     ]
    }
   ],
   "source": [
    "print(df_weather['wind_deg'].nunique())"
   ]
  },
  {
   "cell_type": "code",
   "execution_count": 16,
   "id": "711dca80-0f5e-4162-ae58-9e6f5fd7d8ae",
   "metadata": {},
   "outputs": [
    {
     "data": {
      "text/plain": [
       "weather_main\n",
       "Clouds    143763\n",
       "Clear      33392\n",
       "Rain       28956\n",
       "Snow        1153\n",
       "Name: count, dtype: int64"
      ]
     },
     "execution_count": 16,
     "metadata": {},
     "output_type": "execute_result"
    }
   ],
   "source": [
    "df_weather['weather_main'].value_counts()"
   ]
  },
  {
   "cell_type": "code",
   "execution_count": 35,
   "id": "f147f7a1-5cc8-4e1e-957c-ef6aee8c93e5",
   "metadata": {},
   "outputs": [
    {
     "name": "stdout",
     "output_type": "stream",
     "text": [
      "                          dt_iso  timezone  temp  dew_point  feels_like  \\\n",
      "0  1999-01-01 00:00:00 +0000 UTC      3600  8.33       3.39        5.28   \n",
      "1  1999-01-01 01:00:00 +0000 UTC      3600  8.08       3.54        5.18   \n",
      "2  1999-01-01 02:00:00 +0000 UTC      3600  8.08       4.11        5.38   \n",
      "3  1999-01-01 03:00:00 +0000 UTC      3600  7.31       3.73        4.42   \n",
      "4  1999-01-01 04:00:00 +0000 UTC      3600  6.91       3.53        4.00   \n",
      "5  1999-01-01 05:00:00 +0000 UTC      3600  5.45       2.46        2.35   \n",
      "6  1999-01-01 06:00:00 +0000 UTC      3600  5.63       3.14        2.57   \n",
      "7  1999-01-01 07:00:00 +0000 UTC      3600  5.64       3.32        2.38   \n",
      "8  1999-01-01 08:00:00 +0000 UTC      3600  5.99       3.83        2.69   \n",
      "9  1999-01-01 09:00:00 +0000 UTC      3600  6.72       4.21        3.42   \n",
      "\n",
      "   temp_min  temp_max  pressure  humidity  wind_speed  wind_deg  wind_gust  \\\n",
      "0      8.14      9.32      1006        71        5.57       152        NaN   \n",
      "1      7.94      9.32      1006        73        5.02       153        NaN   \n",
      "2      7.94      8.74      1006        76        4.56       153        NaN   \n",
      "3      7.14      8.62      1006        78        4.56       154        NaN   \n",
      "4      6.74      8.32      1007        79        4.40       159        NaN   \n",
      "5      4.60      7.32      1007        81        4.12       160        NaN   \n",
      "6      4.60      7.62      1008        84        4.12       154        NaN   \n",
      "7      3.60      7.32      1008        85        4.49       149        NaN   \n",
      "8      4.60      6.94      1009        86        4.76       148        NaN   \n",
      "9      5.60      7.97      1010        84        5.15       150        NaN   \n",
      "\n",
      "   rain_1h  rain_3h  snow_1h  clouds_all  weather_id weather_main  \n",
      "0      NaN      NaN      NaN           8         800        Clear  \n",
      "1      NaN      NaN      NaN           6         800        Clear  \n",
      "2      NaN      NaN      NaN          14         801       Clouds  \n",
      "3      NaN      NaN      NaN          39         802       Clouds  \n",
      "4      NaN      NaN      NaN          52         803       Clouds  \n",
      "5      NaN      NaN      NaN          52         803       Clouds  \n",
      "6      NaN      NaN      NaN          57         803       Clouds  \n",
      "7      NaN      NaN      NaN          65         803       Clouds  \n",
      "8      NaN      NaN      NaN          61         803       Clouds  \n",
      "9      NaN      NaN      NaN          83         803       Clouds  \n"
     ]
    }
   ],
   "source": [
    "# delete meanless columns\n",
    "df_weather1 = df_weather.drop(['dt', 'lat', 'lon', 'visibility', 'snow_3h', 'weather_description', 'weather_icon', 'city_name',\n",
    "                              'sea_level', 'grnd_level'], axis=1)\n",
    "\n",
    "print(df_weather1.head(10))"
   ]
  },
  {
   "cell_type": "code",
   "execution_count": 36,
   "id": "6a94d54d-7be0-416d-ac2c-e4a52f07c551",
   "metadata": {},
   "outputs": [
    {
     "data": {
      "text/plain": [
       "dt_iso           object\n",
       "timezone          int64\n",
       "temp            float64\n",
       "dew_point       float64\n",
       "feels_like      float64\n",
       "temp_min        float64\n",
       "temp_max        float64\n",
       "pressure          int64\n",
       "humidity          int64\n",
       "wind_speed      float64\n",
       "wind_deg          int64\n",
       "wind_gust       float64\n",
       "rain_1h         float64\n",
       "rain_3h         float64\n",
       "snow_1h         float64\n",
       "clouds_all        int64\n",
       "weather_id        int64\n",
       "weather_main     object\n",
       "dtype: object"
      ]
     },
     "execution_count": 36,
     "metadata": {},
     "output_type": "execute_result"
    }
   ],
   "source": [
    "df_weather1.dtypes"
   ]
  },
  {
   "cell_type": "code",
   "execution_count": 37,
   "id": "83cd59cc-2b75-4f30-b0b3-4d61367c8c55",
   "metadata": {},
   "outputs": [
    {
     "name": "stdout",
     "output_type": "stream",
     "text": [
      "                          dt_iso  timezone  temp  dew_point  feels_like  \\\n",
      "0  1999-01-01 00:00:00 +0000 UTC      3600  8.33       3.39        5.28   \n",
      "1  1999-01-01 01:00:00 +0000 UTC      3600  8.08       3.54        5.18   \n",
      "2  1999-01-01 02:00:00 +0000 UTC      3600  8.08       4.11        5.38   \n",
      "3  1999-01-01 03:00:00 +0000 UTC      3600  7.31       3.73        4.42   \n",
      "4  1999-01-01 04:00:00 +0000 UTC      3600  6.91       3.53        4.00   \n",
      "5  1999-01-01 05:00:00 +0000 UTC      3600  5.45       2.46        2.35   \n",
      "6  1999-01-01 06:00:00 +0000 UTC      3600  5.63       3.14        2.57   \n",
      "7  1999-01-01 07:00:00 +0000 UTC      3600  5.64       3.32        2.38   \n",
      "8  1999-01-01 08:00:00 +0000 UTC      3600  5.99       3.83        2.69   \n",
      "9  1999-01-01 09:00:00 +0000 UTC      3600  6.72       4.21        3.42   \n",
      "\n",
      "   temp_min  temp_max  pressure  humidity  wind_speed  wind_deg  wind_gust  \\\n",
      "0      8.14      9.32      1006        71        5.57       152        NaN   \n",
      "1      7.94      9.32      1006        73        5.02       153        NaN   \n",
      "2      7.94      8.74      1006        76        4.56       153        NaN   \n",
      "3      7.14      8.62      1006        78        4.56       154        NaN   \n",
      "4      6.74      8.32      1007        79        4.40       159        NaN   \n",
      "5      4.60      7.32      1007        81        4.12       160        NaN   \n",
      "6      4.60      7.62      1008        84        4.12       154        NaN   \n",
      "7      3.60      7.32      1008        85        4.49       149        NaN   \n",
      "8      4.60      6.94      1009        86        4.76       148        NaN   \n",
      "9      5.60      7.97      1010        84        5.15       150        NaN   \n",
      "\n",
      "   rain_1h  rain_3h  snow_1h  clouds_all  weather_id weather_main  \\\n",
      "0      NaN      NaN      NaN           8         800        Clear   \n",
      "1      NaN      NaN      NaN           6         800        Clear   \n",
      "2      NaN      NaN      NaN          14         801       Clouds   \n",
      "3      NaN      NaN      NaN          39         802       Clouds   \n",
      "4      NaN      NaN      NaN          52         803       Clouds   \n",
      "5      NaN      NaN      NaN          52         803       Clouds   \n",
      "6      NaN      NaN      NaN          57         803       Clouds   \n",
      "7      NaN      NaN      NaN          65         803       Clouds   \n",
      "8      NaN      NaN      NaN          61         803       Clouds   \n",
      "9      NaN      NaN      NaN          83         803       Clouds   \n",
      "\n",
      "                         dt       tz_offset  \n",
      "0 1999-01-01 00:00:00+00:00 0 days 01:00:00  \n",
      "1 1999-01-01 01:00:00+00:00 0 days 01:00:00  \n",
      "2 1999-01-01 02:00:00+00:00 0 days 01:00:00  \n",
      "3 1999-01-01 03:00:00+00:00 0 days 01:00:00  \n",
      "4 1999-01-01 04:00:00+00:00 0 days 01:00:00  \n",
      "5 1999-01-01 05:00:00+00:00 0 days 01:00:00  \n",
      "6 1999-01-01 06:00:00+00:00 0 days 01:00:00  \n",
      "7 1999-01-01 07:00:00+00:00 0 days 01:00:00  \n",
      "8 1999-01-01 08:00:00+00:00 0 days 01:00:00  \n",
      "9 1999-01-01 09:00:00+00:00 0 days 01:00:00  \n"
     ]
    }
   ],
   "source": [
    "df_weather1['dt'] = pd.to_datetime(df_weather1['dt_iso'].str.replace(' UTC', '', regex=False))\n",
    "df_weather1['tz_offset'] = pd.to_timedelta(df_weather1['timezone'], unit='s')\n",
    "\n",
    "print(df_weather1.head(10))"
   ]
  },
  {
   "cell_type": "code",
   "execution_count": 38,
   "id": "c674caa7-e6e0-4640-ac25-876b339ec07d",
   "metadata": {},
   "outputs": [
    {
     "data": {
      "text/plain": [
       "dt_iso                       object\n",
       "timezone                      int64\n",
       "temp                        float64\n",
       "dew_point                   float64\n",
       "feels_like                  float64\n",
       "temp_min                    float64\n",
       "temp_max                    float64\n",
       "pressure                      int64\n",
       "humidity                      int64\n",
       "wind_speed                  float64\n",
       "wind_deg                      int64\n",
       "wind_gust                   float64\n",
       "rain_1h                     float64\n",
       "rain_3h                     float64\n",
       "snow_1h                     float64\n",
       "clouds_all                    int64\n",
       "weather_id                    int64\n",
       "weather_main                 object\n",
       "dt              datetime64[ns, UTC]\n",
       "tz_offset           timedelta64[ns]\n",
       "dtype: object"
      ]
     },
     "execution_count": 38,
     "metadata": {},
     "output_type": "execute_result"
    }
   ],
   "source": [
    "df_weather1.dtypes"
   ]
  },
  {
   "cell_type": "code",
   "execution_count": 39,
   "id": "a370322e-3ab0-43fa-9c4e-356c487baa4f",
   "metadata": {},
   "outputs": [
    {
     "name": "stdout",
     "output_type": "stream",
     "text": [
      "                          dt_iso  timezone  temp  dew_point  feels_like  \\\n",
      "0  1999-01-01 00:00:00 +0000 UTC      3600  8.33       3.39        5.28   \n",
      "1  1999-01-01 01:00:00 +0000 UTC      3600  8.08       3.54        5.18   \n",
      "2  1999-01-01 02:00:00 +0000 UTC      3600  8.08       4.11        5.38   \n",
      "3  1999-01-01 03:00:00 +0000 UTC      3600  7.31       3.73        4.42   \n",
      "4  1999-01-01 04:00:00 +0000 UTC      3600  6.91       3.53        4.00   \n",
      "5  1999-01-01 05:00:00 +0000 UTC      3600  5.45       2.46        2.35   \n",
      "6  1999-01-01 06:00:00 +0000 UTC      3600  5.63       3.14        2.57   \n",
      "7  1999-01-01 07:00:00 +0000 UTC      3600  5.64       3.32        2.38   \n",
      "8  1999-01-01 08:00:00 +0000 UTC      3600  5.99       3.83        2.69   \n",
      "9  1999-01-01 09:00:00 +0000 UTC      3600  6.72       4.21        3.42   \n",
      "\n",
      "   temp_min  temp_max  pressure  humidity  wind_speed  wind_deg  wind_gust  \\\n",
      "0      8.14      9.32      1006        71        5.57       152        NaN   \n",
      "1      7.94      9.32      1006        73        5.02       153        NaN   \n",
      "2      7.94      8.74      1006        76        4.56       153        NaN   \n",
      "3      7.14      8.62      1006        78        4.56       154        NaN   \n",
      "4      6.74      8.32      1007        79        4.40       159        NaN   \n",
      "5      4.60      7.32      1007        81        4.12       160        NaN   \n",
      "6      4.60      7.62      1008        84        4.12       154        NaN   \n",
      "7      3.60      7.32      1008        85        4.49       149        NaN   \n",
      "8      4.60      6.94      1009        86        4.76       148        NaN   \n",
      "9      5.60      7.97      1010        84        5.15       150        NaN   \n",
      "\n",
      "   rain_1h  rain_3h  snow_1h  clouds_all  weather_id weather_main  \\\n",
      "0      NaN      NaN      NaN           8         800        Clear   \n",
      "1      NaN      NaN      NaN           6         800        Clear   \n",
      "2      NaN      NaN      NaN          14         801       Clouds   \n",
      "3      NaN      NaN      NaN          39         802       Clouds   \n",
      "4      NaN      NaN      NaN          52         803       Clouds   \n",
      "5      NaN      NaN      NaN          52         803       Clouds   \n",
      "6      NaN      NaN      NaN          57         803       Clouds   \n",
      "7      NaN      NaN      NaN          65         803       Clouds   \n",
      "8      NaN      NaN      NaN          61         803       Clouds   \n",
      "9      NaN      NaN      NaN          83         803       Clouds   \n",
      "\n",
      "                         dt                  local_dt  \n",
      "0 1999-01-01 00:00:00+00:00 1999-01-01 01:00:00+00:00  \n",
      "1 1999-01-01 01:00:00+00:00 1999-01-01 02:00:00+00:00  \n",
      "2 1999-01-01 02:00:00+00:00 1999-01-01 03:00:00+00:00  \n",
      "3 1999-01-01 03:00:00+00:00 1999-01-01 04:00:00+00:00  \n",
      "4 1999-01-01 04:00:00+00:00 1999-01-01 05:00:00+00:00  \n",
      "5 1999-01-01 05:00:00+00:00 1999-01-01 06:00:00+00:00  \n",
      "6 1999-01-01 06:00:00+00:00 1999-01-01 07:00:00+00:00  \n",
      "7 1999-01-01 07:00:00+00:00 1999-01-01 08:00:00+00:00  \n",
      "8 1999-01-01 08:00:00+00:00 1999-01-01 09:00:00+00:00  \n",
      "9 1999-01-01 09:00:00+00:00 1999-01-01 10:00:00+00:00  \n"
     ]
    }
   ],
   "source": [
    "df_weather1['local_dt'] = df_weather1['dt'] + df_weather1['tz_offset']\n",
    "df_weather2 = df_weather1.drop(['tz_offset'], axis=1)\n",
    "\n",
    "print(df_weather2.head(10))"
   ]
  },
  {
   "cell_type": "code",
   "execution_count": 40,
   "id": "6a04a7a4-aa34-466c-8019-2ce9d487c39b",
   "metadata": {},
   "outputs": [
    {
     "name": "stdout",
     "output_type": "stream",
     "text": [
      "Index([2065, 2066, 2067, 2068, 2069, 2070, 2071, 2072, 2073, 2074, 2075, 2076,\n",
      "       2077, 2078, 2079, 2080, 2081, 2082, 2083, 2084],\n",
      "      dtype='int64')\n"
     ]
    }
   ],
   "source": [
    "matching_indices = df_weather2[df_weather2['timezone'] == 7200].index[:20]\n",
    "print(matching_indices)"
   ]
  },
  {
   "cell_type": "code",
   "execution_count": 41,
   "id": "6d0e17ca-54c1-4631-b10d-c2d86acc6ab7",
   "metadata": {
    "scrolled": true
   },
   "outputs": [
    {
     "name": "stdout",
     "output_type": "stream",
     "text": [
      "                             dt_iso  timezone  temp  dew_point  feels_like  \\\n",
      "2060  1999-03-27 20:00:00 +0000 UTC      3600  8.14       4.17        7.04   \n",
      "2061  1999-03-27 21:00:00 +0000 UTC      3600  7.03       3.46        5.42   \n",
      "2062  1999-03-27 22:00:00 +0000 UTC      3600  6.24       2.51        4.08   \n",
      "2063  1999-03-27 23:00:00 +0000 UTC      3600  6.06       2.52        3.64   \n",
      "2064  1999-03-28 00:00:00 +0000 UTC      3600  4.85       1.87        2.16   \n",
      "2065  1999-03-28 01:00:00 +0000 UTC      7200  5.02       2.55        2.37   \n",
      "2066  1999-03-28 02:00:00 +0000 UTC      7200  4.10       2.29        1.19   \n",
      "2067  1999-03-28 03:00:00 +0000 UTC      7200  3.44       2.11        0.41   \n",
      "2068  1999-03-28 04:00:00 +0000 UTC      7200  2.97       1.80       -0.10   \n",
      "2069  1999-03-28 05:00:00 +0000 UTC      7200  2.14       0.98       -1.14   \n",
      "\n",
      "      temp_min  temp_max  pressure  humidity  wind_speed  wind_deg  wind_gust  \\\n",
      "2060      7.94      8.74      1008        76        1.98         5        NaN   \n",
      "2061      6.94      8.02      1009        78        2.36       359        NaN   \n",
      "2062      5.95      6.94      1009        77        2.88        10        NaN   \n",
      "2063      5.74      6.21      1010        78        3.21         6        NaN   \n",
      "2064      4.64      6.12      1010        81        3.23         3        NaN   \n",
      "2065      3.94      5.28      1011        84        3.22       357        NaN   \n",
      "2066      3.69      4.74      1011        88        3.32       348        NaN   \n",
      "2067      2.94      3.81      1011        91        3.30       349        NaN   \n",
      "2068      1.94      3.74      1012        92        3.22       349        NaN   \n",
      "2069      1.94      2.74      1013        92        3.26       348        NaN   \n",
      "\n",
      "      rain_1h  rain_3h  snow_1h  clouds_all  weather_id weather_main  \\\n",
      "2060      NaN      NaN      NaN          99         804       Clouds   \n",
      "2061     0.11      NaN      NaN          99         500         Rain   \n",
      "2062      NaN      NaN      NaN         100         804       Clouds   \n",
      "2063      NaN      NaN      NaN         100         804       Clouds   \n",
      "2064      NaN      NaN      NaN         100         804       Clouds   \n",
      "2065      NaN      NaN      NaN         100         804       Clouds   \n",
      "2066      NaN      NaN      NaN          87         804       Clouds   \n",
      "2067      NaN      NaN      NaN          51         803       Clouds   \n",
      "2068      NaN      NaN      NaN          22         801       Clouds   \n",
      "2069      NaN      NaN      NaN          18         801       Clouds   \n",
      "\n",
      "                            dt                  local_dt  \n",
      "2060 1999-03-27 20:00:00+00:00 1999-03-27 21:00:00+00:00  \n",
      "2061 1999-03-27 21:00:00+00:00 1999-03-27 22:00:00+00:00  \n",
      "2062 1999-03-27 22:00:00+00:00 1999-03-27 23:00:00+00:00  \n",
      "2063 1999-03-27 23:00:00+00:00 1999-03-28 00:00:00+00:00  \n",
      "2064 1999-03-28 00:00:00+00:00 1999-03-28 01:00:00+00:00  \n",
      "2065 1999-03-28 01:00:00+00:00 1999-03-28 03:00:00+00:00  \n",
      "2066 1999-03-28 02:00:00+00:00 1999-03-28 04:00:00+00:00  \n",
      "2067 1999-03-28 03:00:00+00:00 1999-03-28 05:00:00+00:00  \n",
      "2068 1999-03-28 04:00:00+00:00 1999-03-28 06:00:00+00:00  \n",
      "2069 1999-03-28 05:00:00+00:00 1999-03-28 07:00:00+00:00  \n"
     ]
    }
   ],
   "source": [
    "subset = df_weather2.iloc[2060:2070]\n",
    "\n",
    "print(subset)"
   ]
  },
  {
   "cell_type": "code",
   "execution_count": 42,
   "id": "89162d7a-f621-47e1-be06-1bc9fc5b8db3",
   "metadata": {},
   "outputs": [
    {
     "data": {
      "text/plain": [
       "True"
      ]
     },
     "execution_count": 42,
     "metadata": {},
     "output_type": "execute_result"
    }
   ],
   "source": [
    "df_weather2['dt_iso'].is_unique"
   ]
  },
  {
   "cell_type": "code",
   "execution_count": 43,
   "id": "484befff-cd8e-445c-bac9-67af54f91c16",
   "metadata": {},
   "outputs": [
    {
     "data": {
      "text/plain": [
       "False"
      ]
     },
     "execution_count": 43,
     "metadata": {},
     "output_type": "execute_result"
    }
   ],
   "source": [
    "df_weather2['local_dt'].is_unique"
   ]
  },
  {
   "cell_type": "code",
   "execution_count": 54,
   "id": "a6f759c1-4b93-44bc-b1ca-47a1531249de",
   "metadata": {},
   "outputs": [
    {
     "name": "stdout",
     "output_type": "stream",
     "text": [
      "                              dt_iso  timezone   temp  dew_point  feels_like  \\\n",
      "7272   1999-10-31 00:00:00 +0000 UTC      7200  11.18       9.44       10.68   \n",
      "7273   1999-10-31 01:00:00 +0000 UTC      3600  10.65       8.91       10.09   \n",
      "16008  2000-10-29 00:00:00 +0000 UTC      7200  10.42       7.48        9.66   \n",
      "16009  2000-10-29 01:00:00 +0000 UTC      3600   9.87       7.12        6.91   \n",
      "24744  2001-10-28 00:00:00 +0000 UTC      7200  11.56      11.41       11.36   \n",
      "24745  2001-10-28 01:00:00 +0000 UTC      3600  11.15      10.85       10.88   \n",
      "33480  2002-10-27 00:00:00 +0000 UTC      7200  12.98      10.16       12.50   \n",
      "33481  2002-10-27 01:00:00 +0000 UTC      3600  13.75      11.10       13.37   \n",
      "42216  2003-10-26 00:00:00 +0000 UTC      7200   5.56       3.24        2.57   \n",
      "42217  2003-10-26 01:00:00 +0000 UTC      3600   5.49       3.34        2.42   \n",
      "\n",
      "       temp_min  temp_max  pressure  humidity  wind_speed  wind_deg  \\\n",
      "7272      10.54     11.50      1017        89        5.16       245   \n",
      "7273       9.87     11.10      1018        89        4.99       236   \n",
      "16008      9.82     10.64      1014        82        6.67       234   \n",
      "16009      9.12     10.40      1014        83        6.53       226   \n",
      "24744      9.04     12.64      1022        99        1.62       117   \n",
      "24745      7.79     12.32      1022        98        1.79       115   \n",
      "33480     12.77     13.52      1016        83        7.82       198   \n",
      "33481     13.07     14.20      1015        84        7.89       203   \n",
      "42216      4.27      6.14      1017        85        3.96       230   \n",
      "42217      3.87      6.04      1016        86        4.08       224   \n",
      "\n",
      "       wind_gust  rain_1h  rain_3h  snow_1h  clouds_all  weather_id  \\\n",
      "7272         NaN      NaN      NaN      NaN           1         800   \n",
      "7273         NaN      NaN      NaN      NaN           5         800   \n",
      "16008        NaN      NaN      NaN      NaN          27         802   \n",
      "16009        NaN      NaN      NaN      NaN           9         800   \n",
      "24744        NaN      NaN      NaN      NaN          91         804   \n",
      "24745        NaN      NaN      NaN      NaN          96         804   \n",
      "33480        NaN     0.45      NaN      NaN         100         500   \n",
      "33481        NaN     0.80      NaN      NaN         100         500   \n",
      "42216        NaN      NaN      NaN      NaN          92         804   \n",
      "42217        NaN      NaN      NaN      NaN          95         804   \n",
      "\n",
      "      weather_main                        dt                  local_dt  \n",
      "7272         Clear 1999-10-31 00:00:00+00:00 1999-10-31 02:00:00+00:00  \n",
      "7273         Clear 1999-10-31 01:00:00+00:00 1999-10-31 02:00:00+00:00  \n",
      "16008       Clouds 2000-10-29 00:00:00+00:00 2000-10-29 02:00:00+00:00  \n",
      "16009        Clear 2000-10-29 01:00:00+00:00 2000-10-29 02:00:00+00:00  \n",
      "24744       Clouds 2001-10-28 00:00:00+00:00 2001-10-28 02:00:00+00:00  \n",
      "24745       Clouds 2001-10-28 01:00:00+00:00 2001-10-28 02:00:00+00:00  \n",
      "33480         Rain 2002-10-27 00:00:00+00:00 2002-10-27 02:00:00+00:00  \n",
      "33481         Rain 2002-10-27 01:00:00+00:00 2002-10-27 02:00:00+00:00  \n",
      "42216       Clouds 2003-10-26 00:00:00+00:00 2003-10-26 02:00:00+00:00  \n",
      "42217       Clouds 2003-10-26 01:00:00+00:00 2003-10-26 02:00:00+00:00  \n"
     ]
    }
   ],
   "source": [
    "duplicates = df_weather2[df_weather2['local_dt'].duplicated(keep=False)]\n",
    "print(duplicates.head(10))"
   ]
  },
  {
   "cell_type": "code",
   "execution_count": 60,
   "id": "62ed80b5-cb99-43a8-9c4d-0aa9a65bb166",
   "metadata": {},
   "outputs": [
    {
     "name": "stdout",
     "output_type": "stream",
     "text": [
      "          dt  temp_mean  temp_max  temp_min  dew_point_mean  feels_like_mean  \\\n",
      "0 1999-01-01   7.954167     12.09      5.45        5.119583         5.552500   \n",
      "1 1999-01-02   7.442500      9.72      5.26        5.566667         3.710833   \n",
      "2 1999-01-03   7.706250     12.02      4.74        4.866667         4.600833   \n",
      "3 1999-01-04  12.067500     13.98      7.53       11.055417        11.342083   \n",
      "4 1999-01-05  11.275833     15.91      7.66        9.308750        10.225833   \n",
      "5 1999-01-06   9.134167     14.70      4.57        6.945417         7.274167   \n",
      "6 1999-01-07   8.413333      9.66      6.97        6.896667         6.012083   \n",
      "7 1999-01-08   6.854167      7.91      5.28        5.181250         3.547083   \n",
      "8 1999-01-09   4.029167      6.07      0.34        2.337500         0.815833   \n",
      "9 1999-01-10   0.058750      1.40     -1.65       -1.389167        -4.417083   \n",
      "\n",
      "   feels_like_max  feels_like_min  pressure_mean  wind_speed_mean  \\\n",
      "0           11.34            2.35    1009.166667         4.182500   \n",
      "1            6.84            1.00    1006.458333         6.901250   \n",
      "2           11.50            0.84    1009.208333         6.913750   \n",
      "3           13.86            4.16    1015.291667         6.536667   \n",
      "4           15.49            5.45    1017.958333         3.827917   \n",
      "5           14.05            1.65    1016.708333         4.225417   \n",
      "6            7.44            3.97    1012.208333         4.497500   \n",
      "7            4.91            2.40    1007.250000         5.370417   \n",
      "8            3.26           -2.26    1008.833333         4.175417   \n",
      "9           -2.74           -5.50    1010.833333         4.609583   \n",
      "\n",
      "   humidity_mean  \n",
      "0      82.541667  \n",
      "1      87.916667  \n",
      "2      82.708333  \n",
      "3      93.583333  \n",
      "4      88.083333  \n",
      "5      86.791667  \n",
      "6      90.333333  \n",
      "7      89.125000  \n",
      "8      88.791667  \n",
      "9      89.291667  \n"
     ]
    }
   ],
   "source": [
    "# dt_iso                       object\n",
    "# timezone                      int64\n",
    "# temp                        float64\n",
    "# dew_point                   float64\n",
    "# feels_like                  float64\n",
    "# temp_min                    float64\n",
    "# temp_max                    float64\n",
    "# pressure                      int64\n",
    "# humidity                      int64\n",
    "# wind_speed                  float64\n",
    "# wind_deg                      int64\n",
    "# wind_gust                   float64\n",
    "# rain_1h                     float64\n",
    "# rain_3h                     float64\n",
    "# snow_1h                     float64\n",
    "# clouds_all                    int64\n",
    "# weather_id                    int64\n",
    "# weather_main                 object\n",
    "\n",
    "df_weather3 = df_weather2.groupby(df_weather2['dt'].dt.date).agg({\n",
    "    'temp': ['mean', 'max', 'min'],\n",
    "    'dew_point': 'mean',\n",
    "    'feels_like': ['mean', 'max', 'min'],\n",
    "    'pressure': 'mean',\n",
    "    'wind_speed': 'mean',\n",
    "    'humidity': 'mean'\n",
    "})\n",
    "df_weather3.columns = ['_'.join(col) for col in df_weather3.columns]\n",
    "df_weather3.reset_index(inplace=True)\n",
    "df_weather3.rename(columns={'index': 'date'}, inplace=True)\n",
    "df_weather3['dt'] = pd.to_datetime(df_weather3['dt'])\n",
    "\n",
    "print(df_weather3.head(10))"
   ]
  },
  {
   "cell_type": "code",
   "execution_count": 61,
   "id": "4effc6bb-5a6b-43ea-a867-4fec5c936e88",
   "metadata": {},
   "outputs": [
    {
     "data": {
      "text/plain": [
       "dt                 datetime64[ns]\n",
       "temp_mean                 float64\n",
       "temp_max                  float64\n",
       "temp_min                  float64\n",
       "dew_point_mean            float64\n",
       "feels_like_mean           float64\n",
       "feels_like_max            float64\n",
       "feels_like_min            float64\n",
       "pressure_mean             float64\n",
       "wind_speed_mean           float64\n",
       "humidity_mean             float64\n",
       "dtype: object"
      ]
     },
     "execution_count": 61,
     "metadata": {},
     "output_type": "execute_result"
    }
   ],
   "source": [
    "df_weather3.dtypes"
   ]
  },
  {
   "cell_type": "code",
   "execution_count": 32,
   "id": "b79df152-e231-4b72-a4a8-3c423d60ae13",
   "metadata": {},
   "outputs": [
    {
     "name": "stdout",
     "output_type": "stream",
     "text": [
      "   Unnamed: 0  WORK_DATE NIGHT_SHOW  PARADE_1  PARADE_2\n",
      "0           0 2018-10-01   20:00:00  17:30:00  12:10:00\n",
      "1           1 2018-10-02   20:00:00  17:30:00  12:10:00\n",
      "2           2 2018-10-03   20:00:00  17:30:00  12:10:00\n",
      "3           3 2018-10-04   20:00:00  17:30:00  12:10:00\n",
      "4           4 2018-10-05   20:00:00  17:30:00  12:10:00\n",
      "5           5 2018-10-06   22:00:00  17:30:00  12:10:00\n",
      "6           6 2018-10-07   21:00:00  17:30:00  12:10:00\n",
      "7           7 2018-10-08   20:00:00  17:30:00  12:10:00\n",
      "8           8 2018-10-09   20:00:00  17:30:00  12:10:00\n",
      "9           9 2018-10-10   20:00:00  17:30:00  12:10:00\n"
     ]
    },
    {
     "data": {
      "text/plain": [
       "(671, 5)"
      ]
     },
     "execution_count": 32,
     "metadata": {},
     "output_type": "execute_result"
    }
   ],
   "source": [
    "df_nightshow = pd.read_excel(os.path.join(path, \"parade_night_show.xlsx\"))\n",
    "print(df_nightshow.head(10))\n",
    "df_nightshow.shape"
   ]
  },
  {
   "cell_type": "code",
   "execution_count": 31,
   "id": "b5260c0a-6db8-4b52-880b-2924e66e43a4",
   "metadata": {},
   "outputs": [
    {
     "name": "stdout",
     "output_type": "stream",
     "text": [
      "                     ATTRACTION;PARK\n",
      "0      Aeroplane Ride;Tivoli Gardens\n",
      "1     Bumper Cars;PortAventura World\n",
      "2     Bungee Jump;PortAventura World\n",
      "3    Circus Train;PortAventura World\n",
      "4           Crazy Bus;Tivoli Gardens\n",
      "5     Crazy Dance;PortAventura World\n",
      "6   Dizzy Dropper;PortAventura World\n",
      "7      Drop Tower;PortAventura World\n",
      "8  Flying Coaster;PortAventura World\n",
      "9       Free Fall;PortAventura World\n"
     ]
    },
    {
     "data": {
      "text/plain": [
       "(39, 1)"
      ]
     },
     "execution_count": 31,
     "metadata": {},
     "output_type": "execute_result"
    }
   ],
   "source": [
    "import pandas as pd\n",
    "\n",
    "df_attraction = pd.read_csv(os.path.join(path, \"link_attraction_park.csv\"))\n",
    "print(df_attraction.head(10))\n",
    "df_attraction.shape"
   ]
  },
  {
   "cell_type": "code",
   "execution_count": 48,
   "id": "0e95f063-7188-457d-b070-8e8632c2a9ea",
   "metadata": {},
   "outputs": [
    {
     "name": "stdout",
     "output_type": "stream",
     "text": [
      "   USAGE_DATE       FACILITY_NAME  attendance\n",
      "0  2018-06-01  PortAventura World       46804\n",
      "1  2018-06-01      Tivoli Gardens       20420\n",
      "2  2018-06-02  PortAventura World       57940\n",
      "3  2018-06-02      Tivoli Gardens       29110\n",
      "4  2018-06-03  PortAventura World       44365\n",
      "5  2018-06-03      Tivoli Gardens       23727\n",
      "6  2018-06-04  PortAventura World       37617\n",
      "7  2018-06-04      Tivoli Gardens       15115\n",
      "8  2018-06-05  PortAventura World       32438\n",
      "9  2018-06-05      Tivoli Gardens       16373\n"
     ]
    },
    {
     "data": {
      "text/plain": [
       "(2367, 3)"
      ]
     },
     "execution_count": 48,
     "metadata": {},
     "output_type": "execute_result"
    }
   ],
   "source": [
    "import pandas as pd\n",
    "\n",
    "df_attendance = pd.read_csv(os.path.join(path, \"attendance.csv\"))\n",
    "print(df_attendance.head(10))\n",
    "df_attendance.shape"
   ]
  },
  {
   "cell_type": "code",
   "execution_count": 37,
   "id": "63d7127f-0086-4d96-ab17-79abab41c5ae",
   "metadata": {},
   "outputs": [
    {
     "data": {
      "text/plain": [
       "2"
      ]
     },
     "execution_count": 37,
     "metadata": {},
     "output_type": "execute_result"
    }
   ],
   "source": [
    "df_attendance['FACILITY_NAME'].nunique()"
   ]
  },
  {
   "cell_type": "code",
   "execution_count": 69,
   "id": "e4bf6ad1-f0ca-474f-9305-bddec30c168b",
   "metadata": {},
   "outputs": [
    {
     "name": "stdout",
     "output_type": "stream",
     "text": [
      "Min: 2018-06-01\n",
      "Max: 2022-07-26\n"
     ]
    }
   ],
   "source": [
    "print(\"Min:\", df_attendance['USAGE_DATE'].min())\n",
    "print(\"Max:\", df_attendance['USAGE_DATE'].max())"
   ]
  },
  {
   "cell_type": "code",
   "execution_count": 50,
   "id": "9197b0cc-d47d-4f8f-abe4-8c82824591a2",
   "metadata": {},
   "outputs": [
    {
     "name": "stdout",
     "output_type": "stream",
     "text": [
      "   USAGE_DATE   FACILITY_NAME  attendance\n",
      "0  2018-06-01  Tivoli Gardens       20420\n",
      "1  2018-06-02  Tivoli Gardens       29110\n",
      "2  2018-06-03  Tivoli Gardens       23727\n",
      "3  2018-06-04  Tivoli Gardens       15115\n",
      "4  2018-06-05  Tivoli Gardens       16373\n",
      "5  2018-06-06  Tivoli Gardens       15831\n",
      "6  2018-06-07  Tivoli Gardens       16587\n",
      "7  2018-06-08  Tivoli Gardens       16434\n",
      "8  2018-06-09  Tivoli Gardens       25776\n",
      "9  2018-06-10  Tivoli Gardens       34376\n"
     ]
    }
   ],
   "source": [
    "df_tivoli = df_attendance[df_attendance['FACILITY_NAME'] == 'Tivoli Gardens'].reset_index(drop=True)\n",
    "\n",
    "print(df_tivoli.head(10))"
   ]
  },
  {
   "cell_type": "code",
   "execution_count": 49,
   "id": "b909ff88-b201-41a9-9e25-8831943d5e67",
   "metadata": {},
   "outputs": [
    {
     "name": "stdout",
     "output_type": "stream",
     "text": [
      "   USAGE_DATE       FACILITY_NAME  attendance\n",
      "0  2018-06-01  PortAventura World       46804\n",
      "1  2018-06-02  PortAventura World       57940\n",
      "2  2018-06-03  PortAventura World       44365\n",
      "3  2018-06-04  PortAventura World       37617\n",
      "4  2018-06-05  PortAventura World       32438\n",
      "5  2018-06-06  PortAventura World       28399\n",
      "6  2018-06-07  PortAventura World       39436\n",
      "7  2018-06-08  PortAventura World       36459\n",
      "8  2018-06-09  PortAventura World       52664\n",
      "9  2018-06-10  PortAventura World       47025\n"
     ]
    }
   ],
   "source": [
    "df_portaventura = df_attendance[df_attendance['FACILITY_NAME'] == 'PortAventura World'].reset_index(drop=True)\n",
    "\n",
    "print(df_portaventura.head(10))"
   ]
  },
  {
   "cell_type": "code",
   "execution_count": 52,
   "id": "2d51189a-57f3-4630-8a38-4cb27db7bf7d",
   "metadata": {},
   "outputs": [
    {
     "name": "stdout",
     "output_type": "stream",
     "text": [
      "          dt   FACILITY_NAME  attendance\n",
      "0 2018-06-01  Tivoli Gardens       20420\n",
      "1 2018-06-02  Tivoli Gardens       29110\n",
      "2 2018-06-03  Tivoli Gardens       23727\n",
      "3 2018-06-04  Tivoli Gardens       15115\n",
      "4 2018-06-05  Tivoli Gardens       16373\n",
      "5 2018-06-06  Tivoli Gardens       15831\n",
      "6 2018-06-07  Tivoli Gardens       16587\n",
      "7 2018-06-08  Tivoli Gardens       16434\n",
      "8 2018-06-09  Tivoli Gardens       25776\n",
      "9 2018-06-10  Tivoli Gardens       34376\n",
      "          dt       FACILITY_NAME  attendance\n",
      "0 2018-06-01  PortAventura World       46804\n",
      "1 2018-06-02  PortAventura World       57940\n",
      "2 2018-06-03  PortAventura World       44365\n",
      "3 2018-06-04  PortAventura World       37617\n",
      "4 2018-06-05  PortAventura World       32438\n",
      "5 2018-06-06  PortAventura World       28399\n",
      "6 2018-06-07  PortAventura World       39436\n",
      "7 2018-06-08  PortAventura World       36459\n",
      "8 2018-06-09  PortAventura World       52664\n",
      "9 2018-06-10  PortAventura World       47025\n"
     ]
    }
   ],
   "source": [
    "df_portaventura = df_portaventura.rename(columns={'USAGE_DATE': 'dt'})\n",
    "df_tivoli = df_tivoli.rename(columns={'USAGE_DATE': 'dt'})\n",
    "df_portaventura['dt'] = pd.to_datetime(df_portaventura['dt'])\n",
    "df_tivoli['dt'] = pd.to_datetime(df_tivoli['dt'])\n",
    "\n",
    "print(df_tivoli.head(10))\n",
    "print(df_portaventura.head(10))"
   ]
  },
  {
   "cell_type": "code",
   "execution_count": 67,
   "id": "0ceef21f-53ce-4587-aa48-d31d1c1afeb4",
   "metadata": {},
   "outputs": [
    {
     "name": "stdout",
     "output_type": "stream",
     "text": [
      "Collecting holidays\n",
      "  Downloading holidays-0.70-py3-none-any.whl.metadata (34 kB)\n",
      "Requirement already satisfied: python-dateutil in /opt/homebrew/Cellar/jupyterlab/4.3.4_1/libexec/lib/python3.13/site-packages (from holidays) (2.9.0.post0)\n",
      "Requirement already satisfied: six>=1.5 in /opt/homebrew/Cellar/jupyterlab/4.3.4_1/libexec/lib/python3.13/site-packages (from python-dateutil->holidays) (1.17.0)\n",
      "Downloading holidays-0.70-py3-none-any.whl (903 kB)\n",
      "\u001b[2K   \u001b[90m━━━━━━━━━━━━━━━━━━━━━━━━━━━━━━━━━━━━━━━━\u001b[0m \u001b[32m903.1/903.1 kB\u001b[0m \u001b[31m9.9 MB/s\u001b[0m eta \u001b[36m0:00:00\u001b[0m\n",
      "Installing collected packages: holidays\n",
      "Successfully installed holidays-0.70\n"
     ]
    }
   ],
   "source": [
    "!{sys.executable} -m pip install holidays"
   ]
  },
  {
   "cell_type": "code",
   "execution_count": 36,
   "id": "ff315006-8a73-4fd7-a6b7-cd57d8f21ed1",
   "metadata": {},
   "outputs": [
    {
     "name": "stdout",
     "output_type": "stream",
     "text": [
      "    WORK_DATE                 DEB_TIME  DEB_TIME_HOUR  \\\n",
      "0  2018-01-01  2018-01-01 21:00:00.000             21   \n",
      "1  2018-01-01  2018-01-01 19:30:00.000             19   \n",
      "2  2018-01-01  2018-01-01 22:30:00.000             22   \n",
      "3  2018-01-01  2018-01-01 12:45:00.000             12   \n",
      "4  2018-01-01  2018-01-01 17:00:00.000             17   \n",
      "5  2018-01-01  2018-01-01 18:15:00.000             18   \n",
      "6  2018-01-01  2018-01-01 13:30:00.000             13   \n",
      "7  2018-01-01  2018-01-01 15:00:00.000             15   \n",
      "8  2018-01-01  2018-01-01 18:00:00.000             18   \n",
      "9  2018-01-01  2018-01-01 17:15:00.000             17   \n",
      "\n",
      "                  FIN_TIME ENTITY_DESCRIPTION_SHORT  WAIT_TIME_MAX  NB_UNITS  \\\n",
      "0  2018-01-01 21:15:00.000           Roller Coaster              0       2.0   \n",
      "1  2018-01-01 19:45:00.000              Bumper Cars              5      18.0   \n",
      "2  2018-01-01 22:45:00.000              Rapids Ride              0       1.0   \n",
      "3  2018-01-01 13:00:00.000              Crazy Dance              5       1.0   \n",
      "4  2018-01-01 17:15:00.000                   Skyway              5      15.0   \n",
      "5  2018-01-01 18:30:00.000                Free Fall             50       3.0   \n",
      "6  2018-01-01 13:45:00.000                 Monorail             70      11.0   \n",
      "7  2018-01-01 15:15:00.000           Roller Coaster             20       2.0   \n",
      "8  2018-01-01 18:15:00.000               Swing Ride             50      12.0   \n",
      "9  2018-01-01 17:30:00.000                Crazy Bus              5       6.0   \n",
      "\n",
      "   GUEST_CARRIED  CAPACITY  ADJUST_CAPACITY  OPEN_TIME  UP_TIME  DOWNTIME  \\\n",
      "0            0.0     0.000             0.00          0        0         0   \n",
      "1          148.0   254.749           254.75         15       15         0   \n",
      "2            0.0     0.000             0.00          0        0         0   \n",
      "3           46.0   250.001           250.00         15       15         0   \n",
      "4           92.0   211.500           198.25         15       15         0   \n",
      "5            0.0     0.000             0.00          0        0         0   \n",
      "6          145.0   223.751           223.75         15       15         0   \n",
      "7           51.0    75.000            75.00         15       15         0   \n",
      "8           74.0   242.250           242.25         15       15         0   \n",
      "9          271.0   353.000           353.00         15       15         0   \n",
      "\n",
      "   NB_MAX_UNIT  \n",
      "0          2.0  \n",
      "1         18.0  \n",
      "2          2.0  \n",
      "3          1.0  \n",
      "4         16.0  \n",
      "5          3.0  \n",
      "6         11.0  \n",
      "7          2.0  \n",
      "8         12.0  \n",
      "9          6.0  \n"
     ]
    },
    {
     "data": {
      "text/plain": [
       "(3509324, 14)"
      ]
     },
     "execution_count": 36,
     "metadata": {},
     "output_type": "execute_result"
    }
   ],
   "source": [
    "import pandas as pd\n",
    "\n",
    "df_waittingtimes = pd.read_csv(os.path.join(path, \"waiting_times.csv\"))\n",
    "print(df_waittingtimes.head(10))\n",
    "df_waittingtimes.shape"
   ]
  },
  {
   "cell_type": "code",
   "execution_count": 64,
   "id": "b825113c-018e-4626-a398-2a6f7868e84b",
   "metadata": {},
   "outputs": [
    {
     "name": "stdout",
     "output_type": "stream",
     "text": [
      "          dt   FACILITY_NAME  attendance  temp_mean  temp_max  temp_min  \\\n",
      "0 2018-06-01  Tivoli Gardens       20420  17.887500     20.50     15.79   \n",
      "1 2018-06-02  Tivoli Gardens       29110  19.352500     23.71     15.27   \n",
      "2 2018-06-03  Tivoli Gardens       23727  20.275833     25.11     14.13   \n",
      "3 2018-06-04  Tivoli Gardens       15115  20.721667     24.93     16.96   \n",
      "4 2018-06-05  Tivoli Gardens       16373  18.089583     21.67     15.77   \n",
      "5 2018-06-06  Tivoli Gardens       15831  17.604167     22.77     14.31   \n",
      "6 2018-06-07  Tivoli Gardens       16587  20.475417     24.44     16.73   \n",
      "7 2018-06-08  Tivoli Gardens       16434  19.728333     24.67     14.67   \n",
      "8 2018-06-09  Tivoli Gardens       25776  18.730833     23.01     15.10   \n",
      "9 2018-06-10  Tivoli Gardens       34376  19.161250     23.63     15.91   \n",
      "\n",
      "   dew_point_mean  feels_like_mean  feels_like_max  feels_like_min  \\\n",
      "0       16.172083        18.080417           20.62           15.93   \n",
      "1       14.966250        19.368333           23.65           15.41   \n",
      "2       14.882083        20.255833           25.14           14.05   \n",
      "3       15.885000        20.802500           24.97           17.04   \n",
      "4       15.442500        18.168750           21.98           15.76   \n",
      "5       14.997917        17.644583           22.98           14.16   \n",
      "6       16.730417        20.675000           24.58           16.91   \n",
      "7       16.358750        19.888750           24.92           14.67   \n",
      "8       15.368333        18.794583           23.14           15.17   \n",
      "9       17.328750        19.470000           24.06           16.06   \n",
      "\n",
      "   pressure_mean  wind_speed_mean  humidity_mean  \n",
      "0    1019.333333         2.472917      89.916667  \n",
      "1    1019.458333         1.468750      77.541667  \n",
      "2    1016.375000         2.939167      72.666667  \n",
      "3    1011.166667         2.471250      74.791667  \n",
      "4    1011.000000         3.377917      84.791667  \n",
      "5    1011.250000         2.007917      85.166667  \n",
      "6    1014.958333         2.441250      80.291667  \n",
      "7    1014.041667         2.581250      81.625000  \n",
      "8    1012.875000         2.258333      81.791667  \n",
      "9    1011.416667         1.596667      89.500000  \n"
     ]
    }
   ],
   "source": [
    "fdf_tivoli = pd.merge(df_tivoli, df_weather3, on='dt')\n",
    "\n",
    "print(fdf_tivoli.head(10))"
   ]
  },
  {
   "cell_type": "code",
   "execution_count": 66,
   "id": "dc218a13-c517-432a-9775-3571b9a3b70f",
   "metadata": {},
   "outputs": [
    {
     "name": "stdout",
     "output_type": "stream",
     "text": [
      "          dt   FACILITY_NAME  attendance  temp_mean  temp_max  temp_min  \\\n",
      "0 2018-06-01  Tivoli Gardens       20420  17.887500     20.50     15.79   \n",
      "1 2018-06-02  Tivoli Gardens       29110  19.352500     23.71     15.27   \n",
      "2 2018-06-03  Tivoli Gardens       23727  20.275833     25.11     14.13   \n",
      "3 2018-06-04  Tivoli Gardens       15115  20.721667     24.93     16.96   \n",
      "4 2018-06-05  Tivoli Gardens       16373  18.089583     21.67     15.77   \n",
      "5 2018-06-06  Tivoli Gardens       15831  17.604167     22.77     14.31   \n",
      "6 2018-06-07  Tivoli Gardens       16587  20.475417     24.44     16.73   \n",
      "7 2018-06-08  Tivoli Gardens       16434  19.728333     24.67     14.67   \n",
      "8 2018-06-09  Tivoli Gardens       25776  18.730833     23.01     15.10   \n",
      "9 2018-06-10  Tivoli Gardens       34376  19.161250     23.63     15.91   \n",
      "\n",
      "   dew_point_mean  feels_like_mean  feels_like_max  feels_like_min  \\\n",
      "0       16.172083        18.080417           20.62           15.93   \n",
      "1       14.966250        19.368333           23.65           15.41   \n",
      "2       14.882083        20.255833           25.14           14.05   \n",
      "3       15.885000        20.802500           24.97           17.04   \n",
      "4       15.442500        18.168750           21.98           15.76   \n",
      "5       14.997917        17.644583           22.98           14.16   \n",
      "6       16.730417        20.675000           24.58           16.91   \n",
      "7       16.358750        19.888750           24.92           14.67   \n",
      "8       15.368333        18.794583           23.14           15.17   \n",
      "9       17.328750        19.470000           24.06           16.06   \n",
      "\n",
      "   pressure_mean  wind_speed_mean  humidity_mean  day_of_week  \n",
      "0    1019.333333         2.472917      89.916667            4  \n",
      "1    1019.458333         1.468750      77.541667            5  \n",
      "2    1016.375000         2.939167      72.666667            6  \n",
      "3    1011.166667         2.471250      74.791667            0  \n",
      "4    1011.000000         3.377917      84.791667            1  \n",
      "5    1011.250000         2.007917      85.166667            2  \n",
      "6    1014.958333         2.441250      80.291667            3  \n",
      "7    1014.041667         2.581250      81.625000            4  \n",
      "8    1012.875000         2.258333      81.791667            5  \n",
      "9    1011.416667         1.596667      89.500000            6  \n"
     ]
    }
   ],
   "source": [
    "fdf_tivoli['day_of_week'] = fdf_tivoli['dt'].dt.dayofweek  # 0 = Monday, 6 = Sunday\n",
    "\n",
    "print(fdf_tivoli.head(10))"
   ]
  },
  {
   "cell_type": "code",
   "execution_count": 76,
   "id": "572bc3f7-9fe0-45ca-b393-80861149d60b",
   "metadata": {},
   "outputs": [
    {
     "data": {
      "text/plain": [
       "[(datetime.date(2018, 1, 1), 'Nytårsdag'),\n",
       " (datetime.date(2018, 3, 29), 'Skærtorsdag'),\n",
       " (datetime.date(2018, 3, 30), 'Langfredag'),\n",
       " (datetime.date(2018, 4, 1), 'Påskedag'),\n",
       " (datetime.date(2018, 4, 2), 'Anden påskedag'),\n",
       " (datetime.date(2018, 4, 27), 'Store bededag'),\n",
       " (datetime.date(2018, 5, 10), 'Kristi himmelfartsdag'),\n",
       " (datetime.date(2018, 5, 20), 'Pinsedag'),\n",
       " (datetime.date(2018, 5, 21), 'Anden pinsedag'),\n",
       " (datetime.date(2018, 12, 25), 'Juledag')]"
      ]
     },
     "execution_count": 76,
     "metadata": {},
     "output_type": "execute_result"
    }
   ],
   "source": [
    "import holidays\n",
    "\n",
    "dk_holidays = holidays.Denmark(years=[2018, 2019, 2020, 2021, 2022])\n",
    "\n",
    "list(dk_holidays.items())[:10]"
   ]
  },
  {
   "cell_type": "code",
   "execution_count": 96,
   "id": "950c5520-04b9-46d5-9962-d9e4ef45358c",
   "metadata": {},
   "outputs": [
    {
     "name": "stdout",
     "output_type": "stream",
     "text": [
      "          dt   FACILITY_NAME  attendance  temp_mean  temp_max  temp_min  \\\n",
      "0 2018-06-01  Tivoli Gardens       20420  17.887500     20.50     15.79   \n",
      "1 2018-06-02  Tivoli Gardens       29110  19.352500     23.71     15.27   \n",
      "2 2018-06-03  Tivoli Gardens       23727  20.275833     25.11     14.13   \n",
      "3 2018-06-04  Tivoli Gardens       15115  20.721667     24.93     16.96   \n",
      "4 2018-06-05  Tivoli Gardens       16373  18.089583     21.67     15.77   \n",
      "5 2018-06-06  Tivoli Gardens       15831  17.604167     22.77     14.31   \n",
      "6 2018-06-07  Tivoli Gardens       16587  20.475417     24.44     16.73   \n",
      "7 2018-06-08  Tivoli Gardens       16434  19.728333     24.67     14.67   \n",
      "8 2018-06-09  Tivoli Gardens       25776  18.730833     23.01     15.10   \n",
      "9 2018-06-10  Tivoli Gardens       34376  19.161250     23.63     15.91   \n",
      "\n",
      "   dew_point_mean  feels_like_mean  feels_like_max  feels_like_min  \\\n",
      "0       16.172083        18.080417           20.62           15.93   \n",
      "1       14.966250        19.368333           23.65           15.41   \n",
      "2       14.882083        20.255833           25.14           14.05   \n",
      "3       15.885000        20.802500           24.97           17.04   \n",
      "4       15.442500        18.168750           21.98           15.76   \n",
      "5       14.997917        17.644583           22.98           14.16   \n",
      "6       16.730417        20.675000           24.58           16.91   \n",
      "7       16.358750        19.888750           24.92           14.67   \n",
      "8       15.368333        18.794583           23.14           15.17   \n",
      "9       17.328750        19.470000           24.06           16.06   \n",
      "\n",
      "   pressure_mean  wind_speed_mean  humidity_mean  day_of_week  is_holiday  \\\n",
      "0    1019.333333         2.472917      89.916667            4       False   \n",
      "1    1019.458333         1.468750      77.541667            5       False   \n",
      "2    1016.375000         2.939167      72.666667            6       False   \n",
      "3    1011.166667         2.471250      74.791667            0       False   \n",
      "4    1011.000000         3.377917      84.791667            1       False   \n",
      "5    1011.250000         2.007917      85.166667            2       False   \n",
      "6    1014.958333         2.441250      80.291667            3       False   \n",
      "7    1014.041667         2.581250      81.625000            4       False   \n",
      "8    1012.875000         2.258333      81.791667            5       False   \n",
      "9    1011.416667         1.596667      89.500000            6       False   \n",
      "\n",
      "   is_school_holiday  \n",
      "0              False  \n",
      "1              False  \n",
      "2              False  \n",
      "3              False  \n",
      "4              False  \n",
      "5              False  \n",
      "6              False  \n",
      "7              False  \n",
      "8              False  \n",
      "9              False  \n"
     ]
    }
   ],
   "source": [
    "holiday_dates = list(dk_holidays.keys())\n",
    "fdf_tivoli['is_holiday'] = fdf_tivoli['dt'].dt.date.isin(holiday_dates)\n",
    "\n",
    "print(fdf_tivoli.head(10))"
   ]
  },
  {
   "cell_type": "code",
   "execution_count": 97,
   "id": "efe3811e-e57d-44e5-8575-cf43d001f705",
   "metadata": {},
   "outputs": [
    {
     "name": "stdout",
     "output_type": "stream",
     "text": [
      "          dt   FACILITY_NAME  attendance  temp_mean  temp_max  temp_min  \\\n",
      "0 2018-06-01  Tivoli Gardens       20420  17.887500     20.50     15.79   \n",
      "1 2018-06-02  Tivoli Gardens       29110  19.352500     23.71     15.27   \n",
      "2 2018-06-03  Tivoli Gardens       23727  20.275833     25.11     14.13   \n",
      "3 2018-06-04  Tivoli Gardens       15115  20.721667     24.93     16.96   \n",
      "4 2018-06-05  Tivoli Gardens       16373  18.089583     21.67     15.77   \n",
      "5 2018-06-06  Tivoli Gardens       15831  17.604167     22.77     14.31   \n",
      "6 2018-06-07  Tivoli Gardens       16587  20.475417     24.44     16.73   \n",
      "7 2018-06-08  Tivoli Gardens       16434  19.728333     24.67     14.67   \n",
      "8 2018-06-09  Tivoli Gardens       25776  18.730833     23.01     15.10   \n",
      "9 2018-06-10  Tivoli Gardens       34376  19.161250     23.63     15.91   \n",
      "\n",
      "   dew_point_mean  feels_like_mean  feels_like_max  feels_like_min  \\\n",
      "0       16.172083        18.080417           20.62           15.93   \n",
      "1       14.966250        19.368333           23.65           15.41   \n",
      "2       14.882083        20.255833           25.14           14.05   \n",
      "3       15.885000        20.802500           24.97           17.04   \n",
      "4       15.442500        18.168750           21.98           15.76   \n",
      "5       14.997917        17.644583           22.98           14.16   \n",
      "6       16.730417        20.675000           24.58           16.91   \n",
      "7       16.358750        19.888750           24.92           14.67   \n",
      "8       15.368333        18.794583           23.14           15.17   \n",
      "9       17.328750        19.470000           24.06           16.06   \n",
      "\n",
      "   pressure_mean  wind_speed_mean  humidity_mean  day_of_week  is_holiday  \\\n",
      "0    1019.333333         2.472917      89.916667            4       False   \n",
      "1    1019.458333         1.468750      77.541667            5       False   \n",
      "2    1016.375000         2.939167      72.666667            6       False   \n",
      "3    1011.166667         2.471250      74.791667            0       False   \n",
      "4    1011.000000         3.377917      84.791667            1       False   \n",
      "5    1011.250000         2.007917      85.166667            2       False   \n",
      "6    1014.958333         2.441250      80.291667            3       False   \n",
      "7    1014.041667         2.581250      81.625000            4       False   \n",
      "8    1012.875000         2.258333      81.791667            5       False   \n",
      "9    1011.416667         1.596667      89.500000            6       False   \n",
      "\n",
      "   is_school_holiday  \n",
      "0              False  \n",
      "1              False  \n",
      "2              False  \n",
      "3              False  \n",
      "4              False  \n",
      "5              False  \n",
      "6              False  \n",
      "7              False  \n",
      "8              False  \n",
      "9              False  \n"
     ]
    }
   ],
   "source": [
    "school_holidays = [\n",
    "    # 2018\n",
    "    (\"2018-02-10\", \"2018-02-18\"),\n",
    "    (\"2018-03-24\", \"2018-04-02\"),\n",
    "    (\"2018-06-30\", \"2018-08-12\"),\n",
    "    (\"2018-10-13\", \"2018-10-21\"),\n",
    "    (\"2018-12-22\", \"2019-01-02\"),\n",
    "    \n",
    "    # 2019\n",
    "    (\"2019-02-09\", \"2019-02-17\"),\n",
    "    (\"2019-04-13\", \"2019-04-22\"),\n",
    "    (\"2019-06-29\", \"2019-08-11\"),\n",
    "    (\"2019-10-12\", \"2019-10-20\"),\n",
    "    (\"2019-12-21\", \"2020-01-05\"),\n",
    "    \n",
    "    # 2020\n",
    "    (\"2020-02-08\", \"2020-02-16\"),\n",
    "    (\"2020-04-04\", \"2020-04-13\"),\n",
    "    (\"2020-06-27\", \"2020-08-09\"),\n",
    "    (\"2020-10-10\", \"2020-10-18\"),\n",
    "    (\"2020-12-19\", \"2021-01-03\"),\n",
    "    \n",
    "    # 2021\n",
    "    (\"2021-02-13\", \"2021-02-21\"),\n",
    "    (\"2021-03-27\", \"2021-04-05\"),\n",
    "    (\"2021-06-26\", \"2021-08-08\"),\n",
    "    (\"2021-10-16\", \"2021-10-24\"),\n",
    "    (\"2021-12-18\", \"2022-01-02\"),\n",
    "\n",
    "    # 2022\n",
    "    (\"2022-02-12\", \"2022-02-20\"),\n",
    "    (\"2022-04-09\", \"2022-04-18\"),\n",
    "    (\"2022-06-25\", \"2022-08-07\"),\n",
    "    (\"2022-10-15\", \"2022-10-23\"),\n",
    "    (\"2022-12-17\", \"2023-01-01\"),\n",
    "]\n",
    "\n",
    "school_holidays = [(pd.to_datetime(start), pd.to_datetime(end)) for start, end in school_holidays]\n",
    "\n",
    "def is_in_school_holiday(date):\n",
    "    return any(start <= date <= end for start, end in school_holidays)\n",
    "\n",
    "fdf_tivoli['is_school_holiday'] = fdf_tivoli['dt'].apply(is_in_school_holiday)\n",
    "\n",
    "print(fdf_tivoli.head(10))"
   ]
  },
  {
   "cell_type": "code",
   "execution_count": 99,
   "id": "3d7967ee-73df-4c8a-997f-7a35efe2b90a",
   "metadata": {},
   "outputs": [
    {
     "name": "stdout",
     "output_type": "stream",
     "text": [
      "   attendance  temp_mean  temp_max  temp_min  dew_point_mean  feels_like_mean  \\\n",
      "0       20420  17.887500     20.50     15.79       16.172083        18.080417   \n",
      "1       29110  19.352500     23.71     15.27       14.966250        19.368333   \n",
      "2       23727  20.275833     25.11     14.13       14.882083        20.255833   \n",
      "3       15115  20.721667     24.93     16.96       15.885000        20.802500   \n",
      "4       16373  18.089583     21.67     15.77       15.442500        18.168750   \n",
      "5       15831  17.604167     22.77     14.31       14.997917        17.644583   \n",
      "6       16587  20.475417     24.44     16.73       16.730417        20.675000   \n",
      "7       16434  19.728333     24.67     14.67       16.358750        19.888750   \n",
      "8       25776  18.730833     23.01     15.10       15.368333        18.794583   \n",
      "9       34376  19.161250     23.63     15.91       17.328750        19.470000   \n",
      "\n",
      "   feels_like_max  feels_like_min  pressure_mean  wind_speed_mean  \\\n",
      "0           20.62           15.93    1019.333333         2.472917   \n",
      "1           23.65           15.41    1019.458333         1.468750   \n",
      "2           25.14           14.05    1016.375000         2.939167   \n",
      "3           24.97           17.04    1011.166667         2.471250   \n",
      "4           21.98           15.76    1011.000000         3.377917   \n",
      "5           22.98           14.16    1011.250000         2.007917   \n",
      "6           24.58           16.91    1014.958333         2.441250   \n",
      "7           24.92           14.67    1014.041667         2.581250   \n",
      "8           23.14           15.17    1012.875000         2.258333   \n",
      "9           24.06           16.06    1011.416667         1.596667   \n",
      "\n",
      "   humidity_mean  day_of_week  is_holiday  is_school_holiday  \n",
      "0      89.916667            4           0                  0  \n",
      "1      77.541667            5           0                  0  \n",
      "2      72.666667            6           0                  0  \n",
      "3      74.791667            0           0                  0  \n",
      "4      84.791667            1           0                  0  \n",
      "5      85.166667            2           0                  0  \n",
      "6      80.291667            3           0                  0  \n",
      "7      81.625000            4           0                  0  \n",
      "8      81.791667            5           0                  0  \n",
      "9      89.500000            6           0                  0  \n"
     ]
    }
   ],
   "source": [
    "fdf_tivoli1 = fdf_tivoli.drop(['FACILITY_NAME', 'dt'], axis=1)\n",
    "\n",
    "fdf_tivoli1['is_holiday'] = fdf_tivoli1['is_holiday'].astype(int)\n",
    "fdf_tivoli1['is_school_holiday'] = fdf_tivoli1['is_school_holiday'].astype(int)\n",
    "\n",
    "print(fdf_tivoli1.head(10))"
   ]
  },
  {
   "cell_type": "code",
   "execution_count": 100,
   "id": "9d8f120b-b464-46a1-8007-76b45bd63c26",
   "metadata": {},
   "outputs": [
    {
     "name": "stdout",
     "output_type": "stream",
     "text": [
      "Collecting seaborn\n",
      "  Downloading seaborn-0.13.2-py3-none-any.whl.metadata (5.4 kB)\n",
      "Requirement already satisfied: numpy!=1.24.0,>=1.20 in /opt/homebrew/Cellar/jupyterlab/4.3.4_1/libexec/lib/python3.13/site-packages (from seaborn) (2.2.4)\n",
      "Requirement already satisfied: pandas>=1.2 in /opt/homebrew/Cellar/jupyterlab/4.3.4_1/libexec/lib/python3.13/site-packages (from seaborn) (2.2.3)\n",
      "Collecting matplotlib!=3.6.1,>=3.4 (from seaborn)\n",
      "  Downloading matplotlib-3.10.1-cp313-cp313-macosx_11_0_arm64.whl.metadata (11 kB)\n",
      "Collecting contourpy>=1.0.1 (from matplotlib!=3.6.1,>=3.4->seaborn)\n",
      "  Downloading contourpy-1.3.1-cp313-cp313-macosx_11_0_arm64.whl.metadata (5.4 kB)\n",
      "Collecting cycler>=0.10 (from matplotlib!=3.6.1,>=3.4->seaborn)\n",
      "  Using cached cycler-0.12.1-py3-none-any.whl.metadata (3.8 kB)\n",
      "Collecting fonttools>=4.22.0 (from matplotlib!=3.6.1,>=3.4->seaborn)\n",
      "  Downloading fonttools-4.57.0-cp313-cp313-macosx_10_13_universal2.whl.metadata (102 kB)\n",
      "Collecting kiwisolver>=1.3.1 (from matplotlib!=3.6.1,>=3.4->seaborn)\n",
      "  Downloading kiwisolver-1.4.8-cp313-cp313-macosx_11_0_arm64.whl.metadata (6.2 kB)\n",
      "Requirement already satisfied: packaging>=20.0 in /opt/homebrew/Cellar/jupyterlab/4.3.4_1/libexec/lib/python3.13/site-packages (from matplotlib!=3.6.1,>=3.4->seaborn) (24.2)\n",
      "Collecting pillow>=8 (from matplotlib!=3.6.1,>=3.4->seaborn)\n",
      "  Downloading pillow-11.1.0-cp313-cp313-macosx_11_0_arm64.whl.metadata (9.1 kB)\n",
      "Collecting pyparsing>=2.3.1 (from matplotlib!=3.6.1,>=3.4->seaborn)\n",
      "  Downloading pyparsing-3.2.3-py3-none-any.whl.metadata (5.0 kB)\n",
      "Requirement already satisfied: python-dateutil>=2.7 in /opt/homebrew/Cellar/jupyterlab/4.3.4_1/libexec/lib/python3.13/site-packages (from matplotlib!=3.6.1,>=3.4->seaborn) (2.9.0.post0)\n",
      "Requirement already satisfied: pytz>=2020.1 in /opt/homebrew/Cellar/jupyterlab/4.3.4_1/libexec/lib/python3.13/site-packages (from pandas>=1.2->seaborn) (2025.2)\n",
      "Requirement already satisfied: tzdata>=2022.7 in /opt/homebrew/Cellar/jupyterlab/4.3.4_1/libexec/lib/python3.13/site-packages (from pandas>=1.2->seaborn) (2025.2)\n",
      "Requirement already satisfied: six>=1.5 in /opt/homebrew/Cellar/jupyterlab/4.3.4_1/libexec/lib/python3.13/site-packages (from python-dateutil>=2.7->matplotlib!=3.6.1,>=3.4->seaborn) (1.17.0)\n",
      "Downloading seaborn-0.13.2-py3-none-any.whl (294 kB)\n",
      "Downloading matplotlib-3.10.1-cp313-cp313-macosx_11_0_arm64.whl (8.0 MB)\n",
      "\u001b[2K   \u001b[90m━━━━━━━━━━━━━━━━━━━━━━━━━━━━━━━━━━━━━━━━\u001b[0m \u001b[32m8.0/8.0 MB\u001b[0m \u001b[31m11.2 MB/s\u001b[0m eta \u001b[36m0:00:00\u001b[0ma \u001b[36m0:00:01\u001b[0m\n",
      "Downloading contourpy-1.3.1-cp313-cp313-macosx_11_0_arm64.whl (255 kB)\n",
      "Using cached cycler-0.12.1-py3-none-any.whl (8.3 kB)\n",
      "Downloading fonttools-4.57.0-cp313-cp313-macosx_10_13_universal2.whl (2.7 MB)\n",
      "\u001b[2K   \u001b[90m━━━━━━━━━━━━━━━━━━━━━━━━━━━━━━━━━━━━━━━━\u001b[0m \u001b[32m2.7/2.7 MB\u001b[0m \u001b[31m10.1 MB/s\u001b[0m eta \u001b[36m0:00:00\u001b[0ma \u001b[36m0:00:01\u001b[0m\n",
      "Downloading kiwisolver-1.4.8-cp313-cp313-macosx_11_0_arm64.whl (65 kB)\n",
      "Downloading pillow-11.1.0-cp313-cp313-macosx_11_0_arm64.whl (3.1 MB)\n",
      "\u001b[2K   \u001b[90m━━━━━━━━━━━━━━━━━━━━━━━━━━━━━━━━━━━━━━━━\u001b[0m \u001b[32m3.1/3.1 MB\u001b[0m \u001b[31m11.1 MB/s\u001b[0m eta \u001b[36m0:00:00\u001b[0ma \u001b[36m0:00:01\u001b[0m\n",
      "Downloading pyparsing-3.2.3-py3-none-any.whl (111 kB)\n",
      "Installing collected packages: pyparsing, pillow, kiwisolver, fonttools, cycler, contourpy, matplotlib, seaborn\n",
      "Successfully installed contourpy-1.3.1 cycler-0.12.1 fonttools-4.57.0 kiwisolver-1.4.8 matplotlib-3.10.1 pillow-11.1.0 pyparsing-3.2.3 seaborn-0.13.2\n"
     ]
    }
   ],
   "source": [
    "!{sys.executable} -m pip install seaborn"
   ]
  },
  {
   "cell_type": "code",
   "execution_count": 101,
   "id": "68588ee0-cc49-4ccf-bc70-56ddbdf205d4",
   "metadata": {},
   "outputs": [
    {
     "name": "stdout",
     "output_type": "stream",
     "text": [
      "Requirement already satisfied: matplotlib in /opt/homebrew/Cellar/jupyterlab/4.3.4_1/libexec/lib/python3.13/site-packages (3.10.1)\n",
      "Requirement already satisfied: contourpy>=1.0.1 in /opt/homebrew/Cellar/jupyterlab/4.3.4_1/libexec/lib/python3.13/site-packages (from matplotlib) (1.3.1)\n",
      "Requirement already satisfied: cycler>=0.10 in /opt/homebrew/Cellar/jupyterlab/4.3.4_1/libexec/lib/python3.13/site-packages (from matplotlib) (0.12.1)\n",
      "Requirement already satisfied: fonttools>=4.22.0 in /opt/homebrew/Cellar/jupyterlab/4.3.4_1/libexec/lib/python3.13/site-packages (from matplotlib) (4.57.0)\n",
      "Requirement already satisfied: kiwisolver>=1.3.1 in /opt/homebrew/Cellar/jupyterlab/4.3.4_1/libexec/lib/python3.13/site-packages (from matplotlib) (1.4.8)\n",
      "Requirement already satisfied: numpy>=1.23 in /opt/homebrew/Cellar/jupyterlab/4.3.4_1/libexec/lib/python3.13/site-packages (from matplotlib) (2.2.4)\n",
      "Requirement already satisfied: packaging>=20.0 in /opt/homebrew/Cellar/jupyterlab/4.3.4_1/libexec/lib/python3.13/site-packages (from matplotlib) (24.2)\n",
      "Requirement already satisfied: pillow>=8 in /opt/homebrew/Cellar/jupyterlab/4.3.4_1/libexec/lib/python3.13/site-packages (from matplotlib) (11.1.0)\n",
      "Requirement already satisfied: pyparsing>=2.3.1 in /opt/homebrew/Cellar/jupyterlab/4.3.4_1/libexec/lib/python3.13/site-packages (from matplotlib) (3.2.3)\n",
      "Requirement already satisfied: python-dateutil>=2.7 in /opt/homebrew/Cellar/jupyterlab/4.3.4_1/libexec/lib/python3.13/site-packages (from matplotlib) (2.9.0.post0)\n",
      "Requirement already satisfied: six>=1.5 in /opt/homebrew/Cellar/jupyterlab/4.3.4_1/libexec/lib/python3.13/site-packages (from python-dateutil>=2.7->matplotlib) (1.17.0)\n"
     ]
    }
   ],
   "source": [
    "!{sys.executable} -m pip install matplotlib"
   ]
  },
  {
   "cell_type": "code",
   "execution_count": 103,
   "id": "2259ea11-208e-40a1-beab-a2538ec7a32d",
   "metadata": {},
   "outputs": [
    {
     "name": "stderr",
     "output_type": "stream",
     "text": [
      "Matplotlib is building the font cache; this may take a moment.\n"
     ]
    },
    {
     "data": {
      "text/plain": [
       "<Axes: >"
      ]
     },
     "execution_count": 103,
     "metadata": {},
     "output_type": "execute_result"
    },
    {
     "data": {
      "image/png": "[encoded data removed]",
      "text/plain": [
       "<Figure size 1200x800 with 2 Axes>"
      ]
     },
     "metadata": {},
     "output_type": "display_data"
    }
   ],
   "source": [
    "import seaborn as sns\n",
    "import matplotlib.pyplot as plt\n",
    "\n",
    "plt.figure(figsize=(12,8))\n",
    "sns.heatmap(fdf_tivoli1.corr(), annot=True, fmt=\".2f\", cmap=\"coolwarm\")"
   ]
  },
  {
   "cell_type": "code",
   "execution_count": 104,
   "id": "19454138-5a34-4660-b31a-e17072cf8b85",
   "metadata": {},
   "outputs": [
    {
     "name": "stdout",
     "output_type": "stream",
     "text": [
      "   attendance  temp_mean  dew_point_mean  pressure_mean  wind_speed_mean  \\\n",
      "0       20420  17.887500       16.172083    1019.333333         2.472917   \n",
      "1       29110  19.352500       14.966250    1019.458333         1.468750   \n",
      "2       23727  20.275833       14.882083    1016.375000         2.939167   \n",
      "3       15115  20.721667       15.885000    1011.166667         2.471250   \n",
      "4       16373  18.089583       15.442500    1011.000000         3.377917   \n",
      "5       15831  17.604167       14.997917    1011.250000         2.007917   \n",
      "6       16587  20.475417       16.730417    1014.958333         2.441250   \n",
      "7       16434  19.728333       16.358750    1014.041667         2.581250   \n",
      "8       25776  18.730833       15.368333    1012.875000         2.258333   \n",
      "9       34376  19.161250       17.328750    1011.416667         1.596667   \n",
      "\n",
      "   humidity_mean  day_of_week  is_holiday  is_school_holiday  \n",
      "0      89.916667            4           0                  0  \n",
      "1      77.541667            5           0                  0  \n",
      "2      72.666667            6           0                  0  \n",
      "3      74.791667            0           0                  0  \n",
      "4      84.791667            1           0                  0  \n",
      "5      85.166667            2           0                  0  \n",
      "6      80.291667            3           0                  0  \n",
      "7      81.625000            4           0                  0  \n",
      "8      81.791667            5           0                  0  \n",
      "9      89.500000            6           0                  0  \n"
     ]
    }
   ],
   "source": [
    "fdf_tivoli1.drop(columns=['feels_like_mean', 'feels_like_max', 'feels_like_min', 'temp_max', 'temp_min'], inplace=True)\n",
    "\n",
    "print(fdf_tivoli1.head(10))"
   ]
  },
  {
   "cell_type": "code",
   "execution_count": 106,
   "id": "5fb19f72-4308-43ed-bf0a-b486e2d84038",
   "metadata": {},
   "outputs": [
    {
     "name": "stdout",
     "output_type": "stream",
     "text": [
      "   attendance  temp_mean  dew_point_mean  pressure_mean  wind_speed_mean  \\\n",
      "0       20420  17.887500       16.172083    1019.333333         2.472917   \n",
      "1       29110  19.352500       14.966250    1019.458333         1.468750   \n",
      "2       23727  20.275833       14.882083    1016.375000         2.939167   \n",
      "3       15115  20.721667       15.885000    1011.166667         2.471250   \n",
      "4       16373  18.089583       15.442500    1011.000000         3.377917   \n",
      "5       15831  17.604167       14.997917    1011.250000         2.007917   \n",
      "6       16587  20.475417       16.730417    1014.958333         2.441250   \n",
      "7       16434  19.728333       16.358750    1014.041667         2.581250   \n",
      "8       25776  18.730833       15.368333    1012.875000         2.258333   \n",
      "9       34376  19.161250       17.328750    1011.416667         1.596667   \n",
      "\n",
      "   humidity_mean  day_of_week  is_holiday  is_school_holiday  is_weekend  \n",
      "0      89.916667            4           0                  0           0  \n",
      "1      77.541667            5           0                  0           1  \n",
      "2      72.666667            6           0                  0           1  \n",
      "3      74.791667            0           0                  0           0  \n",
      "4      84.791667            1           0                  0           0  \n",
      "5      85.166667            2           0                  0           0  \n",
      "6      80.291667            3           0                  0           0  \n",
      "7      81.625000            4           0                  0           0  \n",
      "8      81.791667            5           0                  0           1  \n",
      "9      89.500000            6           0                  0           1  \n"
     ]
    }
   ],
   "source": [
    "fdf_tivoli1['is_weekend'] = (fdf_tivoli1['day_of_week'] >= 5).astype(int)\n",
    "\n",
    "print(fdf_tivoli1.head(10))"
   ]
  },
  {
   "cell_type": "code",
   "execution_count": 107,
   "id": "0cc01d76-2d17-4109-aafd-3bf4a2ddaee5",
   "metadata": {},
   "outputs": [
    {
     "name": "stdout",
     "output_type": "stream",
     "text": [
      "   attendance  temp_mean  dew_point_mean  pressure_mean  wind_speed_mean  \\\n",
      "0       20420  17.887500       16.172083    1019.333333         2.472917   \n",
      "1       29110  19.352500       14.966250    1019.458333         1.468750   \n",
      "2       23727  20.275833       14.882083    1016.375000         2.939167   \n",
      "3       15115  20.721667       15.885000    1011.166667         2.471250   \n",
      "4       16373  18.089583       15.442500    1011.000000         3.377917   \n",
      "5       15831  17.604167       14.997917    1011.250000         2.007917   \n",
      "6       16587  20.475417       16.730417    1014.958333         2.441250   \n",
      "7       16434  19.728333       16.358750    1014.041667         2.581250   \n",
      "8       25776  18.730833       15.368333    1012.875000         2.258333   \n",
      "9       34376  19.161250       17.328750    1011.416667         1.596667   \n",
      "\n",
      "   humidity_mean  is_holiday  is_school_holiday  is_weekend  \n",
      "0      89.916667           0                  0           0  \n",
      "1      77.541667           0                  0           1  \n",
      "2      72.666667           0                  0           1  \n",
      "3      74.791667           0                  0           0  \n",
      "4      84.791667           0                  0           0  \n",
      "5      85.166667           0                  0           0  \n",
      "6      80.291667           0                  0           0  \n",
      "7      81.625000           0                  0           0  \n",
      "8      81.791667           0                  0           1  \n",
      "9      89.500000           0                  0           1  \n"
     ]
    }
   ],
   "source": [
    "fdf_tivoli2 = fdf_tivoli1.drop('day_of_week', axis = 1)\n",
    "\n",
    "print(fdf_tivoli2.head(10))"
   ]
  },
  {
   "cell_type": "code",
   "execution_count": 83,
   "id": "ba5b55a2-fcb5-4140-88bc-d48f81fb2b37",
   "metadata": {},
   "outputs": [
    {
     "name": "stdout",
     "output_type": "stream",
     "text": [
      "Collecting scikit-learn\n",
      "  Downloading scikit_learn-1.6.1-cp313-cp313-macosx_12_0_arm64.whl.metadata (31 kB)\n",
      "Requirement already satisfied: numpy>=1.19.5 in /opt/homebrew/Cellar/jupyterlab/4.3.4_1/libexec/lib/python3.13/site-packages (from scikit-learn) (2.2.4)\n",
      "Collecting scipy>=1.6.0 (from scikit-learn)\n",
      "  Downloading scipy-1.15.2-cp313-cp313-macosx_14_0_arm64.whl.metadata (61 kB)\n",
      "Collecting joblib>=1.2.0 (from scikit-learn)\n",
      "  Using cached joblib-1.4.2-py3-none-any.whl.metadata (5.4 kB)\n",
      "Collecting threadpoolctl>=3.1.0 (from scikit-learn)\n",
      "  Downloading threadpoolctl-3.6.0-py3-none-any.whl.metadata (13 kB)\n",
      "Downloading scikit_learn-1.6.1-cp313-cp313-macosx_12_0_arm64.whl (11.1 MB)\n",
      "\u001b[2K   \u001b[90m━━━━━━━━━━━━━━━━━━━━━━━━━━━━━━━━━━━━━━━━\u001b[0m \u001b[32m11.1/11.1 MB\u001b[0m \u001b[31m11.3 MB/s\u001b[0m eta \u001b[36m0:00:00\u001b[0m \u001b[36m0:00:01\u001b[0m\n",
      "\u001b[?25hUsing cached joblib-1.4.2-py3-none-any.whl (301 kB)\n",
      "Downloading scipy-1.15.2-cp313-cp313-macosx_14_0_arm64.whl (22.4 MB)\n",
      "\u001b[2K   \u001b[90m━━━━━━━━━━━━━━━━━━━━━━━━━━━━━━━━━━━━━━━━\u001b[0m \u001b[32m22.4/22.4 MB\u001b[0m \u001b[31m10.5 MB/s\u001b[0m eta \u001b[36m0:00:00\u001b[0ma \u001b[36m0:00:01\u001b[0m\n",
      "Downloading threadpoolctl-3.6.0-py3-none-any.whl (18 kB)\n",
      "Installing collected packages: threadpoolctl, scipy, joblib, scikit-learn\n",
      "Successfully installed joblib-1.4.2 scikit-learn-1.6.1 scipy-1.15.2 threadpoolctl-3.6.0\n"
     ]
    }
   ],
   "source": [
    "!{sys.executable} -m pip install scikit-learn"
   ]
  },
  {
   "cell_type": "code",
   "execution_count": 108,
   "id": "f4bb168f-afa7-4c1b-8657-cf41ad78ae0e",
   "metadata": {},
   "outputs": [],
   "source": [
    "from sklearn.model_selection import train_test_split\n",
    "\n",
    "X = fdf_tivoli2.drop(columns=['attendance']) \n",
    "y = fdf_tivoli2['attendance']\n",
    "\n",
    "X_train, X_test, y_train, y_test = train_test_split(X, y, test_size=0.2, shuffle=False)"
   ]
  },
  {
   "cell_type": "code",
   "execution_count": 114,
   "id": "c10908fd-2f3c-418c-b924-b97d6e2756d0",
   "metadata": {},
   "outputs": [],
   "source": [
    "from sklearn.preprocessing import StandardScaler\n",
    "\n",
    "scaler = StandardScaler()\n",
    "X_S_scaled = scaler.fit_transform(X)"
   ]
  },
  {
   "cell_type": "code",
   "execution_count": 113,
   "id": "6b96d724-d2c1-4358-8c4b-0caeade5928a",
   "metadata": {},
   "outputs": [],
   "source": [
    "from sklearn.preprocessing import MinMaxScaler\n",
    "\n",
    "scaler = MinMaxScaler()\n",
    "X_N_scaled = scaler.fit_transform(X)"
   ]
  },
  {
   "cell_type": "code",
   "execution_count": null,
   "id": "66c39aaf-5161-42c6-abd3-f425c1a3bc47",
   "metadata": {},
   "outputs": [],
   "source": []
  }
 ],
 "metadata": {
  "kernelspec": {
   "display_name": "Python 3 (ipykernel)",
   "language": "python",
   "name": "python3"
  },
  "language_info": {
   "codemirror_mode": {
    "name": "ipython",
    "version": 3
   },
   "file_extension": ".py",
   "mimetype": "text/x-python",
   "name": "python",
   "nbconvert_exporter": "python",
   "pygments_lexer": "ipython3",
   "version": "3.13.1"
  }
 },
 "nbformat": 4,
 "nbformat_minor": 5
}
