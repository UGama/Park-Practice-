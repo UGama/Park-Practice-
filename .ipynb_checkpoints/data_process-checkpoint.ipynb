{
 "cells": [
  {
   "cell_type": "code",
   "execution_count": 5,
   "id": "96c9012e-a3c6-4a16-af7d-d076ea55751c",
   "metadata": {},
   "outputs": [
    {
     "name": "stdout",
     "output_type": "stream",
     "text": [
      "/opt/homebrew/Cellar/jupyterlab/4.3.4_1/libexec/bin/python\n"
     ]
    }
   ],
   "source": [
    "import sys\n",
    "print(sys.executable)"
   ]
  },
  {
   "cell_type": "code",
   "execution_count": 6,
   "id": "ecffbb12-f473-4ae8-90f7-64f043a4782a",
   "metadata": {},
   "outputs": [
    {
     "name": "stdout",
     "output_type": "stream",
     "text": [
      "Collecting kagglehub\n",
      "  Using cached kagglehub-0.3.11-py3-none-any.whl.metadata (32 kB)\n",
      "Requirement already satisfied: packaging in /opt/homebrew/Cellar/jupyterlab/4.3.4_1/libexec/lib/python3.13/site-packages (from kagglehub) (24.2)\n",
      "Requirement already satisfied: pyyaml in /opt/homebrew/Cellar/jupyterlab/4.3.4_1/libexec/lib/python3.13/site-packages (from kagglehub) (6.0.2)\n",
      "Requirement already satisfied: requests in /opt/homebrew/Cellar/jupyterlab/4.3.4_1/libexec/lib/python3.13/site-packages (from kagglehub) (2.32.3)\n",
      "Collecting tqdm (from kagglehub)\n",
      "  Downloading tqdm-4.67.1-py3-none-any.whl.metadata (57 kB)\n",
      "Requirement already satisfied: charset_normalizer<4,>=2 in /opt/homebrew/Cellar/jupyterlab/4.3.4_1/libexec/lib/python3.13/site-packages (from requests->kagglehub) (3.4.0)\n",
      "Requirement already satisfied: idna<4,>=2.5 in /opt/homebrew/Cellar/jupyterlab/4.3.4_1/libexec/lib/python3.13/site-packages (from requests->kagglehub) (3.10)\n",
      "Requirement already satisfied: urllib3<3,>=1.21.1 in /opt/homebrew/Cellar/jupyterlab/4.3.4_1/libexec/lib/python3.13/site-packages (from requests->kagglehub) (2.3.0)\n",
      "Requirement already satisfied: certifi>=2017.4.17 in /opt/homebrew/opt/certifi/lib/python3.13/site-packages (from requests->kagglehub) (2024.12.14)\n",
      "Using cached kagglehub-0.3.11-py3-none-any.whl (63 kB)\n",
      "Downloading tqdm-4.67.1-py3-none-any.whl (78 kB)\n",
      "Installing collected packages: tqdm, kagglehub\n",
      "Successfully installed kagglehub-0.3.11 tqdm-4.67.1\n",
      "\n",
      "\u001b[1m[\u001b[0m\u001b[34;49mnotice\u001b[0m\u001b[1;39;49m]\u001b[0m\u001b[39;49m A new release of pip is available: \u001b[0m\u001b[31;49m24.3.1\u001b[0m\u001b[39;49m -> \u001b[0m\u001b[32;49m25.0.1\u001b[0m\n",
      "\u001b[1m[\u001b[0m\u001b[34;49mnotice\u001b[0m\u001b[1;39;49m]\u001b[0m\u001b[39;49m To update, run: \u001b[0m\u001b[32;49m/opt/homebrew/Cellar/jupyterlab/4.3.4_1/libexec/bin/python -m pip install --upgrade pip\u001b[0m\n"
     ]
    }
   ],
   "source": [
    "!{sys.executable} -m pip install kagglehub"
   ]
  },
  {
   "cell_type": "code",
   "execution_count": 8,
   "id": "7f06f04d-842b-4a3f-90f2-d4b2a4e8d103",
   "metadata": {},
   "outputs": [
    {
     "name": "stdout",
     "output_type": "stream",
     "text": [
      "Requirement already satisfied: pip in /opt/homebrew/lib/python3.13/site-packages (24.3.1)\n",
      "Collecting pip\n",
      "  Using cached pip-25.0.1-py3-none-any.whl.metadata (3.7 kB)\n",
      "Using cached pip-25.0.1-py3-none-any.whl (1.8 MB)\n",
      "Installing collected packages: pip\n",
      "  Attempting uninstall: pip\n",
      "    Found existing installation: pip 24.3.1\n",
      "    Not uninstalling pip at /opt/homebrew/lib/python3.13/site-packages, outside environment /opt/homebrew/Cellar/jupyterlab/4.3.4_1/libexec\n",
      "    Can't uninstall 'pip'. No files were found to uninstall.\n",
      "Successfully installed pip-25.0.1\n"
     ]
    }
   ],
   "source": [
    "!/opt/homebrew/Cellar/jupyterlab/4.3.4_1/libexec/bin/python -m pip install --upgrade pip"
   ]
  },
  {
   "cell_type": "code",
   "execution_count": 9,
   "id": "3e387403-64d4-423a-8c27-766d2ab495ce",
   "metadata": {},
   "outputs": [
    {
     "name": "stderr",
     "output_type": "stream",
     "text": [
      "/opt/homebrew/Cellar/jupyterlab/4.3.4_1/libexec/lib/python3.13/site-packages/tqdm/auto.py:21: TqdmWarning: IProgress not found. Please update jupyter and ipywidgets. See https://ipywidgets.readthedocs.io/en/stable/user_install.html\n",
      "  from .autonotebook import tqdm as notebook_tqdm\n"
     ]
    },
    {
     "name": "stdout",
     "output_type": "stream",
     "text": [
      "Downloading from https://www.kaggle.com/api/v1/datasets/download/ayushtankha/hackathon?dataset_version_number=1...\n"
     ]
    },
    {
     "name": "stderr",
     "output_type": "stream",
     "text": [
      "100%|██████████████████████████████████████| 37.7M/37.7M [00:04<00:00, 9.46MB/s]"
     ]
    },
    {
     "name": "stdout",
     "output_type": "stream",
     "text": [
      "Extracting files...\n"
     ]
    },
    {
     "name": "stderr",
     "output_type": "stream",
     "text": [
      "\n"
     ]
    },
    {
     "name": "stdout",
     "output_type": "stream",
     "text": [
      "Path to dataset files: /Users/gama/.cache/kagglehub/datasets/ayushtankha/hackathon/versions/1\n"
     ]
    }
   ],
   "source": [
    "import kagglehub\n",
    "\n",
    "path = kagglehub.dataset_download(\"ayushtankha/hackathon\")\n",
    "\n",
    "print(\"Path to dataset files:\", path)"
   ]
  },
  {
   "cell_type": "code",
   "execution_count": 10,
   "id": "52b40e23-b8f2-4197-9a0e-57857b894166",
   "metadata": {},
   "outputs": [
    {
     "name": "stdout",
     "output_type": "stream",
     "text": [
      "Files in dataset: ['weather_data.csv', 'waiting_times.csv', 'parade_night_show.xlsx', 'glossary.xlsx', 'entity_schedule.csv', 'link_attraction_park.csv', 'attendance.csv']\n"
     ]
    }
   ],
   "source": [
    "import os\n",
    "\n",
    "files = os.listdir(path)\n",
    "print(\"Files in dataset:\", files)"
   ]
  },
  {
   "cell_type": "code",
   "execution_count": 18,
   "id": "da737889-0dbf-412d-833e-30f70fb95a8c",
   "metadata": {},
   "outputs": [
    {
     "name": "stdout",
     "output_type": "stream",
     "text": [
      "Requirement already satisfied: pandas in /opt/homebrew/Cellar/jupyterlab/4.3.4_1/libexec/lib/python3.13/site-packages (2.2.3)\n",
      "Requirement already satisfied: numpy>=1.26.0 in /opt/homebrew/Cellar/jupyterlab/4.3.4_1/libexec/lib/python3.13/site-packages (from pandas) (2.2.4)\n",
      "Requirement already satisfied: python-dateutil>=2.8.2 in /opt/homebrew/Cellar/jupyterlab/4.3.4_1/libexec/lib/python3.13/site-packages (from pandas) (2.9.0.post0)\n",
      "Requirement already satisfied: pytz>=2020.1 in /opt/homebrew/Cellar/jupyterlab/4.3.4_1/libexec/lib/python3.13/site-packages (from pandas) (2025.2)\n",
      "Requirement already satisfied: tzdata>=2022.7 in /opt/homebrew/Cellar/jupyterlab/4.3.4_1/libexec/lib/python3.13/site-packages (from pandas) (2025.2)\n",
      "Requirement already satisfied: six>=1.5 in /opt/homebrew/Cellar/jupyterlab/4.3.4_1/libexec/lib/python3.13/site-packages (from python-dateutil>=2.8.2->pandas) (1.17.0)\n",
      "Collecting openpyxl\n",
      "  Downloading openpyxl-3.1.5-py2.py3-none-any.whl.metadata (2.5 kB)\n",
      "Collecting et-xmlfile (from openpyxl)\n",
      "  Downloading et_xmlfile-2.0.0-py3-none-any.whl.metadata (2.7 kB)\n",
      "Downloading openpyxl-3.1.5-py2.py3-none-any.whl (250 kB)\n",
      "Downloading et_xmlfile-2.0.0-py3-none-any.whl (18 kB)\n",
      "Installing collected packages: et-xmlfile, openpyxl\n",
      "Successfully installed et-xmlfile-2.0.0 openpyxl-3.1.5\n"
     ]
    }
   ],
   "source": [
    "!{sys.executable} -m pip install pandas\n",
    "!{sys.executable} -m pip install openpyxl"
   ]
  },
  {
   "cell_type": "code",
   "execution_count": 33,
   "id": "fef09383-143f-47a9-83d5-512b391a2f1d",
   "metadata": {},
   "outputs": [
    {
     "name": "stdout",
     "output_type": "stream",
     "text": [
      "          dt                         dt_iso  timezone        city_name  \\\n",
      "0  915148800  1999-01-01 00:00:00 +0000 UTC      3600  Custom location   \n",
      "1  915152400  1999-01-01 01:00:00 +0000 UTC      3600  Custom location   \n",
      "2  915156000  1999-01-01 02:00:00 +0000 UTC      3600  Custom location   \n",
      "3  915159600  1999-01-01 03:00:00 +0000 UTC      3600  Custom location   \n",
      "4  915163200  1999-01-01 04:00:00 +0000 UTC      3600  Custom location   \n",
      "5  915166800  1999-01-01 05:00:00 +0000 UTC      3600  Custom location   \n",
      "6  915170400  1999-01-01 06:00:00 +0000 UTC      3600  Custom location   \n",
      "7  915174000  1999-01-01 07:00:00 +0000 UTC      3600  Custom location   \n",
      "8  915177600  1999-01-01 08:00:00 +0000 UTC      3600  Custom location   \n",
      "9  915181200  1999-01-01 09:00:00 +0000 UTC      3600  Custom location   \n",
      "\n",
      "         lat       lon  temp  visibility  dew_point  feels_like  ...  \\\n",
      "0  48.873492  2.295104  8.33         NaN       3.39        5.28  ...   \n",
      "1  48.873492  2.295104  8.08         NaN       3.54        5.18  ...   \n",
      "2  48.873492  2.295104  8.08         NaN       4.11        5.38  ...   \n",
      "3  48.873492  2.295104  7.31         NaN       3.73        4.42  ...   \n",
      "4  48.873492  2.295104  6.91         NaN       3.53        4.00  ...   \n",
      "5  48.873492  2.295104  5.45         NaN       2.46        2.35  ...   \n",
      "6  48.873492  2.295104  5.63         NaN       3.14        2.57  ...   \n",
      "7  48.873492  2.295104  5.64         NaN       3.32        2.38  ...   \n",
      "8  48.873492  2.295104  5.99         NaN       3.83        2.69  ...   \n",
      "9  48.873492  2.295104  6.72         NaN       4.21        3.42  ...   \n",
      "\n",
      "   wind_gust  rain_1h  rain_3h  snow_1h  snow_3h  clouds_all  weather_id  \\\n",
      "0        NaN      NaN      NaN      NaN      NaN           8         800   \n",
      "1        NaN      NaN      NaN      NaN      NaN           6         800   \n",
      "2        NaN      NaN      NaN      NaN      NaN          14         801   \n",
      "3        NaN      NaN      NaN      NaN      NaN          39         802   \n",
      "4        NaN      NaN      NaN      NaN      NaN          52         803   \n",
      "5        NaN      NaN      NaN      NaN      NaN          52         803   \n",
      "6        NaN      NaN      NaN      NaN      NaN          57         803   \n",
      "7        NaN      NaN      NaN      NaN      NaN          65         803   \n",
      "8        NaN      NaN      NaN      NaN      NaN          61         803   \n",
      "9        NaN      NaN      NaN      NaN      NaN          83         803   \n",
      "\n",
      "   weather_main  weather_description  weather_icon  \n",
      "0         Clear         sky is clear           01n  \n",
      "1         Clear         sky is clear           01n  \n",
      "2        Clouds           few clouds           02n  \n",
      "3        Clouds     scattered clouds           03n  \n",
      "4        Clouds        broken clouds           04n  \n",
      "5        Clouds        broken clouds           04n  \n",
      "6        Clouds        broken clouds           04n  \n",
      "7        Clouds        broken clouds           04n  \n",
      "8        Clouds        broken clouds           04d  \n",
      "9        Clouds        broken clouds           04d  \n",
      "\n",
      "[10 rows x 28 columns]\n"
     ]
    },
    {
     "data": {
      "text/plain": [
       "(207264, 28)"
      ]
     },
     "execution_count": 33,
     "metadata": {},
     "output_type": "execute_result"
    }
   ],
   "source": [
    "# ['weather_data.csv', 'waiting_times.csv', 'parade_night_show.xlsx', 'glossary.xlsx', 'entity_schedule.csv', 'link_attraction_park.csv', 'attendance.csv']\n",
    "import pandas as pd\n",
    "\n",
    "df_weather = pd.read_csv(os.path.join(path, \"weather_data.csv\"))\n",
    "print(df_weather.head(10))\n",
    "df_weather.shape"
   ]
  },
  {
   "cell_type": "code",
   "execution_count": 38,
   "id": "8c617997-9c6c-4284-9734-a62a4b3291ed",
   "metadata": {},
   "outputs": [
    {
     "name": "stdout",
     "output_type": "stream",
     "text": [
      "207264 207264 2 1\n"
     ]
    }
   ],
   "source": [
    "print(df_weather['dt'].nunique(),df_weather['dt_iso'].nunique(),df_weather['timezone'].nunique(),df_weather['city_name'].nunique())"
   ]
  },
  {
   "cell_type": "code",
   "execution_count": 39,
   "id": "ed234db0-969a-48f1-829a-22be4eecc750",
   "metadata": {},
   "outputs": [
    {
     "name": "stdout",
     "output_type": "stream",
     "text": [
      "1 1 4333 0\n"
     ]
    }
   ],
   "source": [
    "print(df_weather['lat'].nunique(),df_weather['lon'].nunique(),df_weather['temp'].nunique(),df_weather['visibility'].nunique())"
   ]
  },
  {
   "cell_type": "code",
   "execution_count": 40,
   "id": "1536f4c9-f217-4cce-9ae9-294a2a63120c",
   "metadata": {},
   "outputs": [
    {
     "name": "stdout",
     "output_type": "stream",
     "text": [
      "3414 4939 75 469\n"
     ]
    }
   ],
   "source": [
    "print(df_weather['dew_point'].nunique(),df_weather['feels_like'].nunique(),df_weather['wind_gust'].nunique(),df_weather['rain_1h'].nunique())"
   ]
  },
  {
   "cell_type": "code",
   "execution_count": 41,
   "id": "407aaf9b-3b6d-4519-9e05-32f71b6012b8",
   "metadata": {},
   "outputs": [
    {
     "name": "stdout",
     "output_type": "stream",
     "text": [
      "469 8 165 0\n"
     ]
    }
   ],
   "source": [
    "print(df_weather['rain_1h'].nunique(),df_weather['rain_3h'].nunique(),df_weather['snow_1h'].nunique(),df_weather['snow_3h'].nunique())"
   ]
  },
  {
   "cell_type": "code",
   "execution_count": null,
   "id": "473f4854-53fc-47e4-91bc-8490ea531712",
   "metadata": {},
   "outputs": [],
   "source": []
  },
  {
   "cell_type": "code",
   "execution_count": 32,
   "id": "b79df152-e231-4b72-a4a8-3c423d60ae13",
   "metadata": {},
   "outputs": [
    {
     "name": "stdout",
     "output_type": "stream",
     "text": [
      "   Unnamed: 0  WORK_DATE NIGHT_SHOW  PARADE_1  PARADE_2\n",
      "0           0 2018-10-01   20:00:00  17:30:00  12:10:00\n",
      "1           1 2018-10-02   20:00:00  17:30:00  12:10:00\n",
      "2           2 2018-10-03   20:00:00  17:30:00  12:10:00\n",
      "3           3 2018-10-04   20:00:00  17:30:00  12:10:00\n",
      "4           4 2018-10-05   20:00:00  17:30:00  12:10:00\n",
      "5           5 2018-10-06   22:00:00  17:30:00  12:10:00\n",
      "6           6 2018-10-07   21:00:00  17:30:00  12:10:00\n",
      "7           7 2018-10-08   20:00:00  17:30:00  12:10:00\n",
      "8           8 2018-10-09   20:00:00  17:30:00  12:10:00\n",
      "9           9 2018-10-10   20:00:00  17:30:00  12:10:00\n"
     ]
    },
    {
     "data": {
      "text/plain": [
       "(671, 5)"
      ]
     },
     "execution_count": 32,
     "metadata": {},
     "output_type": "execute_result"
    }
   ],
   "source": [
    "df_nightshow = pd.read_excel(os.path.join(path, \"parade_night_show.xlsx\"))\n",
    "print(df_nightshow.head(10))\n",
    "df_nightshow.shape"
   ]
  },
  {
   "cell_type": "code",
   "execution_count": 31,
   "id": "b5260c0a-6db8-4b52-880b-2924e66e43a4",
   "metadata": {},
   "outputs": [
    {
     "name": "stdout",
     "output_type": "stream",
     "text": [
      "                     ATTRACTION;PARK\n",
      "0      Aeroplane Ride;Tivoli Gardens\n",
      "1     Bumper Cars;PortAventura World\n",
      "2     Bungee Jump;PortAventura World\n",
      "3    Circus Train;PortAventura World\n",
      "4           Crazy Bus;Tivoli Gardens\n",
      "5     Crazy Dance;PortAventura World\n",
      "6   Dizzy Dropper;PortAventura World\n",
      "7      Drop Tower;PortAventura World\n",
      "8  Flying Coaster;PortAventura World\n",
      "9       Free Fall;PortAventura World\n"
     ]
    },
    {
     "data": {
      "text/plain": [
       "(39, 1)"
      ]
     },
     "execution_count": 31,
     "metadata": {},
     "output_type": "execute_result"
    }
   ],
   "source": [
    "import pandas as pd\n",
    "\n",
    "df_attraction = pd.read_csv(os.path.join(path, \"link_attraction_park.csv\"))\n",
    "print(df_attraction.head(10))\n",
    "df_attraction.shape"
   ]
  },
  {
   "cell_type": "code",
   "execution_count": 34,
   "id": "0e95f063-7188-457d-b070-8e8632c2a9ea",
   "metadata": {},
   "outputs": [
    {
     "name": "stdout",
     "output_type": "stream",
     "text": [
      "   USAGE_DATE       FACILITY_NAME  attendance\n",
      "0  2018-06-01  PortAventura World       46804\n",
      "1  2018-06-01      Tivoli Gardens       20420\n",
      "2  2018-06-02  PortAventura World       57940\n",
      "3  2018-06-02      Tivoli Gardens       29110\n",
      "4  2018-06-03  PortAventura World       44365\n",
      "5  2018-06-03      Tivoli Gardens       23727\n",
      "6  2018-06-04  PortAventura World       37617\n",
      "7  2018-06-04      Tivoli Gardens       15115\n",
      "8  2018-06-05  PortAventura World       32438\n",
      "9  2018-06-05      Tivoli Gardens       16373\n"
     ]
    },
    {
     "data": {
      "text/plain": [
       "(2367, 3)"
      ]
     },
     "execution_count": 34,
     "metadata": {},
     "output_type": "execute_result"
    }
   ],
   "source": [
    "import pandas as pd\n",
    "\n",
    "df_attendance = pd.read_csv(os.path.join(path, \"attendance.csv\"))\n",
    "print(df_attendance.head(10))\n",
    "df_attendance.shape"
   ]
  },
  {
   "cell_type": "code",
   "execution_count": 37,
   "id": "63d7127f-0086-4d96-ab17-79abab41c5ae",
   "metadata": {},
   "outputs": [
    {
     "data": {
      "text/plain": [
       "2"
      ]
     },
     "execution_count": 37,
     "metadata": {},
     "output_type": "execute_result"
    }
   ],
   "source": [
    "df_attendance['FACILITY_NAME'].nunique()"
   ]
  },
  {
   "cell_type": "code",
   "execution_count": 36,
   "id": "ff315006-8a73-4fd7-a6b7-cd57d8f21ed1",
   "metadata": {},
   "outputs": [
    {
     "name": "stdout",
     "output_type": "stream",
     "text": [
      "    WORK_DATE                 DEB_TIME  DEB_TIME_HOUR  \\\n",
      "0  2018-01-01  2018-01-01 21:00:00.000             21   \n",
      "1  2018-01-01  2018-01-01 19:30:00.000             19   \n",
      "2  2018-01-01  2018-01-01 22:30:00.000             22   \n",
      "3  2018-01-01  2018-01-01 12:45:00.000             12   \n",
      "4  2018-01-01  2018-01-01 17:00:00.000             17   \n",
      "5  2018-01-01  2018-01-01 18:15:00.000             18   \n",
      "6  2018-01-01  2018-01-01 13:30:00.000             13   \n",
      "7  2018-01-01  2018-01-01 15:00:00.000             15   \n",
      "8  2018-01-01  2018-01-01 18:00:00.000             18   \n",
      "9  2018-01-01  2018-01-01 17:15:00.000             17   \n",
      "\n",
      "                  FIN_TIME ENTITY_DESCRIPTION_SHORT  WAIT_TIME_MAX  NB_UNITS  \\\n",
      "0  2018-01-01 21:15:00.000           Roller Coaster              0       2.0   \n",
      "1  2018-01-01 19:45:00.000              Bumper Cars              5      18.0   \n",
      "2  2018-01-01 22:45:00.000              Rapids Ride              0       1.0   \n",
      "3  2018-01-01 13:00:00.000              Crazy Dance              5       1.0   \n",
      "4  2018-01-01 17:15:00.000                   Skyway              5      15.0   \n",
      "5  2018-01-01 18:30:00.000                Free Fall             50       3.0   \n",
      "6  2018-01-01 13:45:00.000                 Monorail             70      11.0   \n",
      "7  2018-01-01 15:15:00.000           Roller Coaster             20       2.0   \n",
      "8  2018-01-01 18:15:00.000               Swing Ride             50      12.0   \n",
      "9  2018-01-01 17:30:00.000                Crazy Bus              5       6.0   \n",
      "\n",
      "   GUEST_CARRIED  CAPACITY  ADJUST_CAPACITY  OPEN_TIME  UP_TIME  DOWNTIME  \\\n",
      "0            0.0     0.000             0.00          0        0         0   \n",
      "1          148.0   254.749           254.75         15       15         0   \n",
      "2            0.0     0.000             0.00          0        0         0   \n",
      "3           46.0   250.001           250.00         15       15         0   \n",
      "4           92.0   211.500           198.25         15       15         0   \n",
      "5            0.0     0.000             0.00          0        0         0   \n",
      "6          145.0   223.751           223.75         15       15         0   \n",
      "7           51.0    75.000            75.00         15       15         0   \n",
      "8           74.0   242.250           242.25         15       15         0   \n",
      "9          271.0   353.000           353.00         15       15         0   \n",
      "\n",
      "   NB_MAX_UNIT  \n",
      "0          2.0  \n",
      "1         18.0  \n",
      "2          2.0  \n",
      "3          1.0  \n",
      "4         16.0  \n",
      "5          3.0  \n",
      "6         11.0  \n",
      "7          2.0  \n",
      "8         12.0  \n",
      "9          6.0  \n"
     ]
    },
    {
     "data": {
      "text/plain": [
       "(3509324, 14)"
      ]
     },
     "execution_count": 36,
     "metadata": {},
     "output_type": "execute_result"
    }
   ],
   "source": [
    "import pandas as pd\n",
    "\n",
    "df_waittingtimes = pd.read_csv(os.path.join(path, \"waiting_times.csv\"))\n",
    "print(df_waittingtimes.head(10))\n",
    "df_waittingtimes.shape"
   ]
  },
  {
   "cell_type": "code",
   "execution_count": null,
   "id": "dc218a13-c517-432a-9775-3571b9a3b70f",
   "metadata": {},
   "outputs": [],
   "source": []
  }
 ],
 "metadata": {
  "kernelspec": {
   "display_name": "Python 3 (ipykernel)",
   "language": "python",
   "name": "python3"
  },
  "language_info": {
   "codemirror_mode": {
    "name": "ipython",
    "version": 3
   },
   "file_extension": ".py",
   "mimetype": "text/x-python",
   "name": "python",
   "nbconvert_exporter": "python",
   "pygments_lexer": "ipython3",
   "version": "3.13.1"
  }
 },
 "nbformat": 4,
 "nbformat_minor": 5
}
